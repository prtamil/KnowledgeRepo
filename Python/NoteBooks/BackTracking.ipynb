{
 "cells": [
  {
   "cell_type": "markdown",
   "metadata": {},
   "source": [
    "# Backtracking\n",
    "Backtracking is a process where it backtracks with each decision it makes - (What a crappy def)\n",
    "Its just undo for all wrong decisions you make."
   ]
  },
  {
   "cell_type": "markdown",
   "metadata": {},
   "source": [
    "## Finding Permutaions of Bits\n",
    "for ex: if n = 3 it should produce 000,001,010,011 etc...."
   ]
  },
  {
   "cell_type": "code",
   "execution_count": 4,
   "metadata": {},
   "outputs": [],
   "source": [
    "def bitperm(n):\n",
    "    A = [0]*n\n",
    "    def inner(n,idx):\n",
    "        nonlocal A\n",
    "        if n==idx:\n",
    "            print(''.join(A))\n",
    "        else:\n",
    "            A[idx]='0'\n",
    "            inner(n,idx+1)\n",
    "            A[idx]='1'\n",
    "            inner(n,idx+1)\n",
    "                \n",
    "                \n",
    "    inner(n,0)"
   ]
  },
  {
   "cell_type": "code",
   "execution_count": 5,
   "metadata": {},
   "outputs": [
    {
     "name": "stdout",
     "output_type": "stream",
     "text": [
      "000\n",
      "001\n",
      "010\n",
      "011\n",
      "100\n",
      "101\n",
      "110\n",
      "111\n"
     ]
    }
   ],
   "source": [
    "bitperm(3)"
   ]
  },
  {
   "cell_type": "markdown",
   "metadata": {},
   "source": [
    " Cool. Important Points to Ponder\n",
    "    - When solving Recursion Backtracking Problem never use list reduction, list reduction over given list\n",
    "    - ie dont solve like \n",
    "  ```python\n",
    "    def F(lst): \n",
    "       F(lst[1:])\n",
    "  ```\n",
    "      which will never work\n",
    "    - Always pass list and Use Index variable to track Proper Index.\n",
    " # Reduction and Recursion never works"
   ]
  },
  {
   "cell_type": "markdown",
   "metadata": {},
   "source": [
    "## Print All Subsets of given Sets\n",
    "for ex: [1,2] => [1],[2],[1,2],[0] etc\n",
    "    "
   ]
  },
  {
   "cell_type": "code",
   "execution_count": 7,
   "metadata": {},
   "outputs": [],
   "source": [
    "res = []\n",
    "def subsets(s,idx,acc):\n",
    "    #print(\"idx ->\",idx,\"acc -> \",acc[:])\n",
    "    if idx==len(s):\n",
    "        print(\"->\",acc)\n",
    "        res.append(acc[:])\n",
    "    else:\n",
    "        acc.append(s[idx])\n",
    "        subsets(s,idx+1,acc)\n",
    "        print(\"Coming out\",idx,acc)\n",
    "        acc.pop()\n",
    "        print(\"After poping\",acc)\n",
    "        subsets(s,idx+1,acc)\n"
   ]
  },
  {
   "cell_type": "code",
   "execution_count": 8,
   "metadata": {},
   "outputs": [
    {
     "name": "stdout",
     "output_type": "stream",
     "text": [
      "-> [1, 2, 3]\n",
      "Coming out 2 [1, 2, 3]\n",
      "After poping [1, 2]\n",
      "-> [1, 2]\n",
      "Coming out 1 [1, 2]\n",
      "After poping [1]\n",
      "-> [1, 3]\n",
      "Coming out 2 [1, 3]\n",
      "After poping [1]\n",
      "-> [1]\n",
      "Coming out 0 [1]\n",
      "After poping []\n",
      "-> [2, 3]\n",
      "Coming out 2 [2, 3]\n",
      "After poping [2]\n",
      "-> [2]\n",
      "Coming out 1 [2]\n",
      "After poping []\n",
      "-> [3]\n",
      "Coming out 2 [3]\n",
      "After poping []\n",
      "-> []\n"
     ]
    }
   ],
   "source": [
    "subsets([1,2,3],0,[])"
   ]
  },
  {
   "cell_type": "code",
   "execution_count": 6,
   "metadata": {},
   "outputs": [
    {
     "data": {
      "text/plain": [
       "[[1, 2, 3], [1, 2], [1, 3], [1], [2, 3], [2], [3], []]"
      ]
     },
     "execution_count": 6,
     "metadata": {},
     "output_type": "execute_result"
    }
   ],
   "source": [
    "res"
   ]
  },
  {
   "cell_type": "markdown",
   "metadata": {},
   "source": [
    "If Problems are based on subset always use accumulater for Processing Results"
   ]
  },
  {
   "cell_type": "markdown",
   "metadata": {},
   "source": [
    "## Permutation Algorithm\n"
   ]
  },
  {
   "cell_type": "raw",
   "metadata": {},
   "source": [
    "def permuate(s):\n",
    "    if s is empty:\n",
    "        print s nothing to do\n",
    "    else:\n",
    "        for each char c in s:\n",
    "            choose c to be first\n",
    "            permutate(the rest s)\n",
    "            unchoose c"
   ]
  },
  {
   "cell_type": "markdown",
   "metadata": {},
   "source": [
    "## Permutation of Given List\n",
    "results like [1,2] => [1,2],[2,1]"
   ]
  },
  {
   "cell_type": "code",
   "execution_count": 88,
   "metadata": {
    "collapsed": true
   },
   "outputs": [],
   "source": [
    "def Permutations(item):\n",
    "    def inner(item,start,end):\n",
    "        if start==end:\n",
    "            print(''.join([str(x) for x in item]))\n",
    "        else:\n",
    "            for i in range(start,end):\n",
    "                item[i],item[start]= item[start],item[i]\n",
    "                inner(item,start+1,end)\n",
    "                item[i],item[start]=item[start],item[i]\n",
    "    inner(item,0,len(item))\n"
   ]
  },
  {
   "cell_type": "code",
   "execution_count": 91,
   "metadata": {},
   "outputs": [
    {
     "name": "stdout",
     "output_type": "stream",
     "text": [
      "123\n",
      "132\n",
      "213\n",
      "231\n",
      "321\n",
      "312\n"
     ]
    }
   ],
   "source": [
    "Permutations([1,2,3])"
   ]
  },
  {
   "cell_type": "code",
   "execution_count": 95,
   "metadata": {},
   "outputs": [
    {
     "name": "stdout",
     "output_type": "stream",
     "text": [
      "123\n",
      "132\n",
      "213\n",
      "231\n",
      "312\n",
      "321\n"
     ]
    }
   ],
   "source": [
    "from itertools import permutations\n",
    "for v in permutations('123'):\n",
    "    print(''.join(v))"
   ]
  },
  {
   "cell_type": "markdown",
   "metadata": {},
   "source": [
    "# Backtracking NQueens Problem"
   ]
  },
  {
   "cell_type": "code",
   "execution_count": 108,
   "metadata": {
    "collapsed": true
   },
   "outputs": [],
   "source": [
    "N = 4\n",
    "board = [[0]*N for i in range(N)]"
   ]
  },
  {
   "cell_type": "markdown",
   "metadata": {},
   "source": [
    "Generally for 2D array you can use\n",
    "- ```python\n",
    "    board = [[.]*N]*N\n",
    "   ```\n",
    "but problem with this\n",
    "All the rows will have save reference\n",
    "- so if you do board[0][0]=1 ,\n",
    "- then all board[1][0],board[2,0] so on will be 1\n",
    "- so we need to do ```python [[0]*N for i in range(N)]``` so it will create multpile copies.\n",
    "- be ware of short cut functions"
   ]
  },
  {
   "cell_type": "code",
   "execution_count": 121,
   "metadata": {},
   "outputs": [],
   "source": [
    "def print_board(board):\n",
    "    for x in board:\n",
    "        \n",
    "        print('|'.join(['.' if i==0 else 'Q' for i in x]))\n",
    "        print()\n",
    "    print('----------------')\n",
    "\n"
   ]
  },
  {
   "cell_type": "code",
   "execution_count": 119,
   "metadata": {},
   "outputs": [
    {
     "name": "stdout",
     "output_type": "stream",
     "text": [
      ".|.|.|.\n",
      "\n",
      ".|.|.|.\n",
      "\n",
      ".|.|.|.\n",
      "\n",
      ".|.|.|.\n",
      "\n",
      "----------------\n"
     ]
    }
   ],
   "source": [
    "print_board(board)"
   ]
  },
  {
   "cell_type": "markdown",
   "metadata": {},
   "source": [
    "### Safe To place"
   ]
  },
  {
   "cell_type": "markdown",
   "metadata": {},
   "source": [
    "we need to write function to check whether it is ok to place Q on\n",
    "- left\n",
    "- left Cross\n",
    "- right cross"
   ]
  },
  {
   "cell_type": "code",
   "execution_count": 112,
   "metadata": {
    "collapsed": true
   },
   "outputs": [],
   "source": [
    "def is_safe(board,row,col):\n",
    "    for i in range(col):\n",
    "        if board[row][i]:\n",
    "            return False\n",
    "        \n",
    "    i = row\n",
    "    j = col\n",
    "    while i >=0 and j >=0:\n",
    "        if board[i][j]:\n",
    "            return False\n",
    "        i -= 1\n",
    "        j -= 1\n",
    "    i = row\n",
    "    j = col\n",
    "    while j >= 0 and i < len(board):\n",
    "        if board[i][j]:\n",
    "            return False\n",
    "        i += 1\n",
    "        j -= 1\n",
    "    return True"
   ]
  },
  {
   "cell_type": "code",
   "execution_count": 122,
   "metadata": {},
   "outputs": [],
   "source": [
    "def SolveNQueens(N):\n",
    "    board = [[0]*N for i in range(N)]\n",
    "    def solven(board,col,N):\n",
    "        if col == N:\n",
    "            print_board(board)\n",
    "        else:\n",
    "            for i in range(N):\n",
    "                if is_safe(board,i,col):\n",
    "                    board[i][col]=1\n",
    "                    solven(board,col+1,N)\n",
    "                    board[i][col]=0\n",
    "    solven(board,0,N)"
   ]
  },
  {
   "cell_type": "code",
   "execution_count": 123,
   "metadata": {},
   "outputs": [
    {
     "name": "stdout",
     "output_type": "stream",
     "text": [
      ".|.|Q|.\n",
      "\n",
      "Q|.|.|.\n",
      "\n",
      ".|.|.|Q\n",
      "\n",
      ".|Q|.|.\n",
      "\n",
      "----------------\n",
      ".|Q|.|.\n",
      "\n",
      ".|.|.|Q\n",
      "\n",
      "Q|.|.|.\n",
      "\n",
      ".|.|Q|.\n",
      "\n",
      "----------------\n"
     ]
    }
   ],
   "source": [
    "SolveNQueens(4)"
   ]
  },
  {
   "cell_type": "markdown",
   "metadata": {},
   "source": [
    "### Short Python trick for NQueen Problem\n",
    "Need to understand this Trick"
   ]
  },
  {
   "cell_type": "code",
   "execution_count": 132,
   "metadata": {},
   "outputs": [
    {
     "name": "stdout",
     "output_type": "stream",
     "text": [
      ".|q|.|.\n",
      "________\n",
      ".|.|.|q\n",
      "________\n",
      "q|.|.|.\n",
      "________\n",
      ".|.|q|.\n",
      "________\n",
      "---------------\n",
      ".|.|q|.\n",
      "________\n",
      "q|.|.|.\n",
      "________\n",
      ".|.|.|q\n",
      "________\n",
      ".|q|.|.\n",
      "________\n",
      "---------------\n"
     ]
    }
   ],
   "source": [
    "from itertools import permutations\n",
    "N=4\n",
    "cols = range(N)\n",
    "\n",
    "def print_b(vec):\n",
    "    for col in vec:\n",
    "        s = ['.']*len(vec)\n",
    "        s[col]='q'\n",
    "        print('|'.join(s))\n",
    "        print(''.join(['__']*len(vec)))\n",
    "    print('---------------')\n",
    "\n",
    "for vec in permutations(cols):\n",
    "    if N == len(set(vec[i]+i for i in cols))\\\n",
    "          == len(set(vec[i]-i for i in cols)):\n",
    "        print_b(vec)"
   ]
  },
  {
   "cell_type": "code",
   "execution_count": 2,
   "metadata": {
    "collapsed": true
   },
   "outputs": [],
   "source": [
    "def infN():\n",
    "    x = 1\n",
    "    while True:\n",
    "        yield x\n",
    "        x += 1"
   ]
  },
  {
   "cell_type": "code",
   "execution_count": 4,
   "metadata": {},
   "outputs": [
    {
     "data": {
      "text/plain": [
       "[1, 1, 1, 1, 1, 1, 1, 1, 1, 1]"
      ]
     },
     "execution_count": 4,
     "metadata": {},
     "output_type": "execute_result"
    }
   ],
   "source": [
    "g = infN"
   ]
  },
  {
   "cell_type": "markdown",
   "metadata": {
    "collapsed": true
   },
   "source": [
    "## Make Equation\n",
    "[1,2,3,4,Target(10)] -> 1+2+3+4 = 10"
   ]
  },
  {
   "cell_type": "code",
   "execution_count": 1,
   "metadata": {
    "collapsed": true
   },
   "outputs": [],
   "source": [
    "def MakeEqn(A):\n",
    "     sym = [None]*(len(A))\n",
    "     def inner(A,idx,ER,sum):\n",
    "         ts = sum\n",
    "         #test A-1 items only because A[-1] is ER\n",
    "         if idx == len(A):\n",
    "             if ER==sum:\n",
    "                i = 0\n",
    "                print('0 ',end='')\n",
    "                while i < len(A):\n",
    "                    print(sym[i],end=' ')\n",
    "                    print(A[i],end=' ')\n",
    "                    i+=1\n",
    "                print(' = ',ER)\n",
    "\n",
    "         else:\n",
    "             sum = sum + A[idx]\n",
    "             sym[idx]='+'\n",
    "             inner(A,idx+1,ER,sum)\n",
    "             sym[idx]='-'\n",
    "             ts = ts - A[idx]\n",
    "             inner(A,idx+1,ER,ts)\n",
    "             #sum = sum - A[idx]\n",
    "             #inner(A,idx+1,ER,sum)\n",
    "     B = A[0:-1]\n",
    "     ER = A[-1]\n",
    "     inner(B,0,ER,0)"
   ]
  },
  {
   "cell_type": "markdown",
   "metadata": {},
   "source": [
    "Remember ts variable. we need to capture sum.\n",
    "because sum will keep changing. we need to store previous value. else stack will confuse it.\n",
    "Hard to understand....\n",
    "\n",
    "Lets make it easy\n",
    "\n",
    "When n = 1\n",
    "   sum = 1\n",
    " n = 2\n",
    "    sum = 2\n",
    " n = 3\n",
    "      sum = 3\n",
    "      \n",
    " if we backtrack sum=2 frame sum will be addition.\n",
    " we need to keep ts value so we capture sum. else sum will be recalulated. which gives wrong result"
   ]
  },
  {
   "cell_type": "code",
   "execution_count": 3,
   "metadata": {},
   "outputs": [
    {
     "name": "stdout",
     "output_type": "stream",
     "text": [
      "0 + 1 + 2 - 3 - 4 + 5  =  1\n",
      "0 + 1 - 2 + 3 + 4 - 5  =  1\n",
      "0 - 1 - 2 + 3 - 4 + 5  =  1\n",
      "0 + 1 - 2 + 3 - 4 + 5  =  3\n",
      "0 - 1 + 2 + 3 + 4 - 5  =  3\n",
      "0 - 1 - 2 - 3 + 4 + 5  =  3\n",
      "0 + 1 + 2 + 3 + 4 - 5  =  5\n",
      "0 + 1 - 2 - 3 + 4 + 5  =  5\n",
      "0 - 1 + 2 + 3 - 4 + 5  =  5\n",
      "0 + 1 + 2 + 3 - 4 + 5  =  7\n",
      "0 - 1 + 2 - 3 + 4 + 5  =  7\n",
      "0 + 1 + 2 - 3 + 4 + 5  =  9\n",
      "0 - 1 - 2 + 3 + 4 + 5  =  9\n",
      "0 + 1 - 2 + 3 + 4 + 5  =  11\n",
      "0 - 1 + 2 + 3 + 4 + 5  =  13\n",
      "0 + 1 + 2 + 3 + 4 + 5  =  15\n"
     ]
    }
   ],
   "source": [
    "for x in range(1,16):\n",
    "    MakeEqn([1,2,3,4,5,x])"
   ]
  },
  {
   "cell_type": "code",
   "execution_count": 29,
   "metadata": {},
   "outputs": [],
   "source": [
    "def permu(lst):\n",
    "    res = []\n",
    "    def perms(l,s,e):\n",
    "        nonlocal res\n",
    "        if s==e:\n",
    "            res += [list(l)]\n",
    "        else:\n",
    "            for x in range(s,e):\n",
    "                l[s],l[x]=l[x],l[s]\n",
    "                perms(l,s+1,e)\n",
    "                l[s],l[x]=l[x],l[s]\n",
    "    perms(lst,0,len(lst))\n",
    "    return res\n"
   ]
  },
  {
   "cell_type": "code",
   "execution_count": 30,
   "metadata": {},
   "outputs": [],
   "source": [
    "p = permu([1,2,3,4])"
   ]
  },
  {
   "cell_type": "code",
   "execution_count": 31,
   "metadata": {},
   "outputs": [
    {
     "data": {
      "text/plain": [
       "[[1, 2, 3, 4],\n",
       " [1, 2, 4, 3],\n",
       " [1, 3, 2, 4],\n",
       " [1, 3, 4, 2],\n",
       " [1, 4, 3, 2],\n",
       " [1, 4, 2, 3],\n",
       " [2, 1, 3, 4],\n",
       " [2, 1, 4, 3],\n",
       " [2, 3, 1, 4],\n",
       " [2, 3, 4, 1],\n",
       " [2, 4, 3, 1],\n",
       " [2, 4, 1, 3],\n",
       " [3, 2, 1, 4],\n",
       " [3, 2, 4, 1],\n",
       " [3, 1, 2, 4],\n",
       " [3, 1, 4, 2],\n",
       " [3, 4, 1, 2],\n",
       " [3, 4, 2, 1],\n",
       " [4, 2, 3, 1],\n",
       " [4, 2, 1, 3],\n",
       " [4, 3, 2, 1],\n",
       " [4, 3, 1, 2],\n",
       " [4, 1, 3, 2],\n",
       " [4, 1, 2, 3]]"
      ]
     },
     "execution_count": 31,
     "metadata": {},
     "output_type": "execute_result"
    }
   ],
   "source": [
    "p"
   ]
  },
  {
   "cell_type": "code",
   "execution_count": 13,
   "metadata": {},
   "outputs": [],
   "source": [
    "def rsum(l,idx,acc):\n",
    "    if idx == len(l):\n",
    "        print(acc)\n",
    "    else:\n",
    "        acc += l[idx]\n",
    "        rsum(l,idx+1,acc)"
   ]
  },
  {
   "cell_type": "code",
   "execution_count": 15,
   "metadata": {},
   "outputs": [
    {
     "name": "stdout",
     "output_type": "stream",
     "text": [
      "104\n"
     ]
    }
   ],
   "source": [
    "rsum([1,2,3,4,5,89],0,0)"
   ]
  },
  {
   "cell_type": "code",
   "execution_count": null,
   "metadata": {},
   "outputs": [],
   "source": []
  }
 ],
 "metadata": {
  "kernelspec": {
   "display_name": "Python 3",
   "language": "python",
   "name": "python3"
  },
  "language_info": {
   "codemirror_mode": {
    "name": "ipython",
    "version": 3
   },
   "file_extension": ".py",
   "mimetype": "text/x-python",
   "name": "python",
   "nbconvert_exporter": "python",
   "pygments_lexer": "ipython3",
   "version": "3.7.1"
  }
 },
 "nbformat": 4,
 "nbformat_minor": 1
}
