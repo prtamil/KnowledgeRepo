{
 "metadata": {
  "name": "",
  "signature": "sha256:815e653022468d4cdd16c8e42328cce8d0d9b36521ed96f593512ee8bc90c8c0"
 },
 "nbformat": 3,
 "nbformat_minor": 0,
 "worksheets": [
  {
   "cells": [
    {
     "cell_type": "code",
     "collapsed": false,
     "input": [
      "d = {1:2,2:3,3:4}\n",
      "for x in enumerate(d):\n",
      "    print(x)"
     ],
     "language": "python",
     "metadata": {},
     "outputs": [
      {
       "output_type": "stream",
       "stream": "stdout",
       "text": [
        "(0, 1)\n",
        "(1, 2)\n",
        "(2, 3)\n"
       ]
      }
     ],
     "prompt_number": 2
    },
    {
     "cell_type": "code",
     "collapsed": false,
     "input": [
      "d.items()"
     ],
     "language": "python",
     "metadata": {},
     "outputs": [
      {
       "metadata": {},
       "output_type": "pyout",
       "prompt_number": 3,
       "text": [
        "dict_items([(1, 2), (2, 3), (3, 4)])"
       ]
      }
     ],
     "prompt_number": 3
    },
    {
     "cell_type": "code",
     "collapsed": false,
     "input": [
      "l = slice(-3,None)"
     ],
     "language": "python",
     "metadata": {},
     "outputs": [],
     "prompt_number": 4
    },
    {
     "cell_type": "code",
     "collapsed": false,
     "input": [
      "a = [1,2,3,4,5,6,7,8]"
     ],
     "language": "python",
     "metadata": {},
     "outputs": [],
     "prompt_number": 5
    },
    {
     "cell_type": "code",
     "collapsed": false,
     "input": [
      "a[l]"
     ],
     "language": "python",
     "metadata": {},
     "outputs": [
      {
       "metadata": {},
       "output_type": "pyout",
       "prompt_number": 6,
       "text": [
        "[6, 7, 8]"
       ]
      }
     ],
     "prompt_number": 6
    },
    {
     "cell_type": "code",
     "collapsed": false,
     "input": [
      "list(enumerate('hai'))"
     ],
     "language": "python",
     "metadata": {},
     "outputs": [
      {
       "metadata": {},
       "output_type": "pyout",
       "prompt_number": 2,
       "text": [
        "[(0, 'h'), (1, 'a'), (2, 'i')]"
       ]
      }
     ],
     "prompt_number": 2
    },
    {
     "cell_type": "code",
     "collapsed": false,
     "input": [
      "def tsplit(s,sep=' '):\n",
      "    res = []\n",
      "    iidx = 0\n",
      "    for ci,c in enumerate(s):\n",
      "        if c == sep:\n",
      "            res += [s[iidx:ci]]\n",
      "            iidx = ci+1\n",
      "    res += [s[iidx:]]\n",
      "    return res"
     ],
     "language": "python",
     "metadata": {},
     "outputs": [],
     "prompt_number": 9
    },
    {
     "cell_type": "code",
     "collapsed": false,
     "input": [
      "tsplit('this,is,sparta,300',',')"
     ],
     "language": "python",
     "metadata": {},
     "outputs": [
      {
       "metadata": {},
       "output_type": "pyout",
       "prompt_number": 11,
       "text": [
        "['this', 'is', 'sparta', '300']"
       ]
      }
     ],
     "prompt_number": 11
    },
    {
     "cell_type": "code",
     "collapsed": false,
     "input": [
      "s = 'line a72 and a73 will be replaced but not aa34 and a879'"
     ],
     "language": "python",
     "metadata": {},
     "outputs": [],
     "prompt_number": 12
    },
    {
     "cell_type": "code",
     "collapsed": false,
     "input": [
      "import regex"
     ],
     "language": "python",
     "metadata": {},
     "outputs": [],
     "prompt_number": 13
    },
    {
     "cell_type": "code",
     "collapsed": false,
     "input": [
      "r = regex.compile('^[A-Za-z]\\d\\d$')"
     ],
     "language": "python",
     "metadata": {},
     "outputs": [],
     "prompt_number": 16
    },
    {
     "cell_type": "code",
     "collapsed": false,
     "input": [
      "res = []\n",
      "for x in s.split():\n",
      "    if r.match(x):\n",
      "        res += ['***']\n",
      "    else:\n",
      "        res += [x]\n"
     ],
     "language": "python",
     "metadata": {},
     "outputs": [],
     "prompt_number": 22
    },
    {
     "cell_type": "code",
     "collapsed": false,
     "input": [
      "res \n"
     ],
     "language": "python",
     "metadata": {},
     "outputs": [
      {
       "metadata": {},
       "output_type": "pyout",
       "prompt_number": 24,
       "text": [
        "['line',\n",
        " '***',\n",
        " 'and',\n",
        " '***',\n",
        " 'will',\n",
        " 'be',\n",
        " 'replaced',\n",
        " 'but',\n",
        " 'not',\n",
        " 'aa34',\n",
        " 'and',\n",
        " 'a879']"
       ]
      }
     ],
     "prompt_number": 24
    },
    {
     "cell_type": "code",
     "collapsed": false,
     "input": [
      "s = 'this is thing'\n",
      "\n",
      "idx = 0\n",
      "res = []\n",
      "for i,c in enumerate(s):\n",
      "    if c == ' ':\n",
      "        res += [s[idx:i]]\n",
      "        idx = i+1 \n",
      "res += [s[idx:]]\n",
      "\n",
      "print(res)"
     ],
     "language": "python",
     "metadata": {},
     "outputs": [
      {
       "output_type": "stream",
       "stream": "stdout",
       "text": [
        "['this', 'is', 'thing']\n"
       ]
      }
     ],
     "prompt_number": 26
    },
    {
     "cell_type": "code",
     "collapsed": false,
     "input": [
      "def grpby(st):\n",
      "    i = 0\n",
      "    sc = st[0]\n",
      "    si = 0\n",
      "    pi = 0\n",
      "    res = []\n",
      "    for ci,c in enumerate(st):\n",
      "        if c == sc:\n",
      "            si = ci\n",
      "        else:\n",
      "            res +=[(sc,len(st[pi:ci]))]\n",
      "            sc = c\n",
      "            pi = ci\n",
      "    res +=[(sc,len(st[pi:]))]\n",
      "    return res\n",
      "    \n",
      "grpby('aaaaabbbbbcccccaaaaatamilseeelllllvvvvvaaan')\n",
      "            \n",
      "    "
     ],
     "language": "python",
     "metadata": {},
     "outputs": [
      {
       "metadata": {},
       "output_type": "pyout",
       "prompt_number": 45,
       "text": [
        "[('a', 5),\n",
        " ('b', 5),\n",
        " ('c', 5),\n",
        " ('a', 5),\n",
        " ('t', 1),\n",
        " ('a', 1),\n",
        " ('m', 1),\n",
        " ('i', 1),\n",
        " ('l', 1),\n",
        " ('s', 1),\n",
        " ('e', 3),\n",
        " ('l', 5),\n",
        " ('v', 5),\n",
        " ('a', 3),\n",
        " ('n', 1)]"
       ]
      }
     ],
     "prompt_number": 45
    },
    {
     "cell_type": "heading",
     "level": 1,
     "metadata": {},
     "source": [
      "bottum up dynamic programming"
     ]
    },
    {
     "cell_type": "code",
     "collapsed": false,
     "input": [
      "def fibo(n):\n",
      "    fib = {}\n",
      "    for k in range(1,n+1):\n",
      "        if k <= 2:\n",
      "            f = 1\n",
      "        else:\n",
      "            f = fib[k-1] + fib[k-2]\n",
      "        fib[k] = f\n",
      "    return fib[n]"
     ],
     "language": "python",
     "metadata": {},
     "outputs": [],
     "prompt_number": 53
    },
    {
     "cell_type": "code",
     "collapsed": false,
     "input": [
      "[fibo(x) for x in range(1,11)]"
     ],
     "language": "python",
     "metadata": {},
     "outputs": [
      {
       "metadata": {},
       "output_type": "pyout",
       "prompt_number": 57,
       "text": [
        "[1, 1, 2, 3, 5, 8, 13, 21, 34, 55]"
       ]
      }
     ],
     "prompt_number": 57
    },
    {
     "cell_type": "code",
     "collapsed": false,
     "input": [],
     "language": "python",
     "metadata": {},
     "outputs": []
    }
   ],
   "metadata": {}
  }
 ]
}