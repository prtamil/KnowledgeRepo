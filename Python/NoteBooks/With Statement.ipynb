{
 "cells": [
  {
   "cell_type": "markdown",
   "metadata": {},
   "source": [
    "# With Statement\n"
   ]
  },
  {
   "cell_type": "markdown",
   "metadata": {},
   "source": [
    "## Magic Methods"
   ]
  },
  {
   "cell_type": "markdown",
   "metadata": {},
   "source": [
    "\"__enter__, __exit__\" are two magic methods used for with statement functionality.\n",
    "simple examples are"
   ]
  },
  {
   "cell_type": "code",
   "execution_count": 8,
   "metadata": {
    "collapsed": false
   },
   "outputs": [
    {
     "name": "stdout",
     "output_type": "stream",
     "text": [
      "Init\n",
      "Destroying f\n",
      "Destroyed\n"
     ]
    }
   ],
   "source": [
    "class A(object):\n",
    "    def __enter__(self):\n",
    "        self.f = \"Init\"\n",
    "        return self\n",
    "    def __exit__(self,type,value,traceback):\n",
    "        if self.f == \"Init\":\n",
    "            print('Destroying f')\n",
    "            self.f = 'Destroyed'\n",
    "            print(self.f)\n",
    "            #print(self,type,value,tb)\n",
    "        #exit should not return anything\n",
    "    \n",
    "with A() as a:\n",
    "    print(a.f)"
   ]
  },
  {
   "cell_type": "markdown",
   "metadata": {},
   "source": [
    "# How does it work\n",
    "<pre>\n",
    " with VAR = EXPR:\n",
    "      BLOCK\n",
    "\n",
    "    which roughly translates into this:\n",
    "\n",
    "        VAR = EXPR\n",
    "        VAR.__enter__()\n",
    "        try:\n",
    "            BLOCK\n",
    "        finally:\n",
    "            VAR.__exit__()\n",
    " </pre>"
   ]
  },
  {
   "cell_type": "markdown",
   "metadata": {
    "collapsed": true
   },
   "source": [
    "# Context Managers"
   ]
  },
  {
   "cell_type": "markdown",
   "metadata": {},
   "source": [
    "Another Useful thing using with is providing full fledged Context Managers \n",
    "There is default one present in \n",
    "<pre>\n",
    "from contextlib import contextmanager\n",
    "@contextmanager\n",
    "def saved(cr):\n",
    "    cr.save()\n",
    "    yield cr\n",
    "    cr.restore()\n",
    "</pre>\n",
    "\n",
    "Here contextmanager is a decorator function which abstracts most of the implementation.\n",
    "Contxtmanager class is roughly defined as.\n",
    "<pre>\n",
    "class GeneratorContextManager(object):\n",
    "\n",
    "           def __init__(self, gen):\n",
    "               self.gen = gen\n",
    "\n",
    "           def __enter__(self):\n",
    "               try:\n",
    "                   return self.gen.next()\n",
    "               except StopIteration:\n",
    "                   raise RuntimeError(\"generator didn't yield\")\n",
    "\n",
    "           def __exit__(self, type, value, traceback):\n",
    "               if type is None:\n",
    "                   try:\n",
    "                       self.gen.next()\n",
    "                   except StopIteration:\n",
    "                       return\n",
    "                   else:\n",
    "                       raise RuntimeError(\"generator didn't stop\")\n",
    "               else:\n",
    "                   try:\n",
    "                       self.gen.throw(type, value, traceback)\n",
    "                       raise RuntimeError(\"generator didn't stop after throw()\")\n",
    "                   except StopIteration:\n",
    "                       return True\n",
    "                   except:\n",
    "                       # only re-raise if it's *not* the exception that was\n",
    "                       # passed to throw(), because __exit__() must not raise\n",
    "                       # an exception unless __exit__() itself failed.  But\n",
    "                       # throw() has to raise the exception to signal\n",
    "                       # propagation, so this fixes the impedance mismatch \n",
    "                       # between the throw() protocol and the __exit__()\n",
    "                       # protocol.\n",
    "                       #\n",
    "                       if sys.exc_info()[1] is not value:\n",
    "                           raise\n",
    "\n",
    "        def contextmanager(func):\n",
    "           def helper(*args, **kwds):\n",
    "               return GeneratorContextManager(func(*args, **kwds))\n",
    "           return helper\n",
    "</pre>"
   ]
  },
  {
   "cell_type": "markdown",
   "metadata": {},
   "source": [
    "The decorator can be used as \n",
    "<pre>\n",
    "@contextmanager\n",
    "def opening(filename):\n",
    "     f = open(filename) # IOError is untouched by GeneratorContext\n",
    "     try:\n",
    "        yield f\n",
    "     finally:\n",
    "        f.close() # Ditto for errors here (however unlikely)\n",
    "        </pre>\n",
    "The Contextmanager decorator should be used for generator.\n",
    "The Contextmanager is reentrant.\n",
    "\n",
    "## Some Inbuilt context managers\n",
    "context managers:\n",
    "        - file\n",
    "        - thread.LockType\n",
    "        - threading.Lock\n",
    "        - threading.RLock\n",
    "        - threading.Condition\n",
    "        - threading.Semaphore\n",
    "        - threading.BoundedSemaphore\n",
    "We can use context managers\n",
    "        - custom resource managers"
   ]
  },
  {
   "cell_type": "markdown",
   "metadata": {},
   "source": [
    "# Sample Example of With"
   ]
  },
  {
   "cell_type": "code",
   "execution_count": 11,
   "metadata": {
    "collapsed": false
   },
   "outputs": [
    {
     "name": "stdout",
     "output_type": "stream",
     "text": [
      "Request took like 0.005630000000000024\n"
     ]
    }
   ],
   "source": [
    "import time\n",
    "\n",
    "class Timer(object):\n",
    "    def __enter__(self):\n",
    "        self.start = time.clock()\n",
    "        return self\n",
    "    def __exit__(self,*args):\n",
    "        self.end = time.clock()\n",
    "        self.interval = self.end - self.start\n",
    "        \n",
    "import http.client\n",
    "\n",
    "with Timer() as t:\n",
    "    conn = http.client.HTTPConnection('google.com')\n",
    "    conn.request('GET', '/')\n",
    "    \n",
    "print('Request took like {0}'.format(t.interval))"
   ]
  },
  {
   "cell_type": "code",
   "execution_count": 12,
   "metadata": {
    "collapsed": false
   },
   "outputs": [
    {
     "name": "stdout",
     "output_type": "stream",
     "text": [
      "<h2>\n",
      "Sparta\n",
      "</h2>\n"
     ]
    }
   ],
   "source": [
    "from contextlib import contextmanager\n",
    "\n",
    "@contextmanager\n",
    "def tag(name):\n",
    "    print(\"<%s>\" % name)\n",
    "    yield\n",
    "    print(\"</%s>\" % name)\n",
    "    \n",
    "with tag(\"h2\"):\n",
    "    print(\"Sparta\")"
   ]
  },
  {
   "cell_type": "markdown",
   "metadata": {},
   "source": [
    "# We can use it as function decorator\n",
    "\n"
   ]
  },
  {
   "cell_type": "code",
   "execution_count": 13,
   "metadata": {
    "collapsed": true
   },
   "outputs": [],
   "source": [
    "from contextlib import ContextDecorator\n",
    "import logging\n",
    "\n",
    "logging.basicConfig(level=logging.INFO)\n",
    "\n",
    "class track_entry_and_exit(ContextDecorator):\n",
    "    def __init__(self, name):\n",
    "        self.name = name\n",
    "\n",
    "    def __enter__(self):\n",
    "        logging.info('Entering: {}'.format(self.name))\n",
    "\n",
    "    def __exit__(self, exc_type, exc, exc_tb):\n",
    "        logging.info('Exiting: {}'.format(self.name))\n",
    " "
   ]
  },
  {
   "cell_type": "markdown",
   "metadata": {},
   "source": [
    "\n",
    "Instances of this class can be used as both a context manager:\n",
    "\n",
    " <pre>\n",
    " with track_entry_and_exit('widget loader'):\n",
    "    print('Some time consuming activity goes here')\n",
    "    load_widget()\n",
    "   \n",
    "  </pre>\n",
    "And also as a function decorator:\n",
    "\n",
    "<pre>\n",
    "\n",
    "@track_entry_and_exit('widget loader')\n",
    "def activity():\n",
    "    print('Some time consuming activity goes here')\n",
    "    load_widget()\n",
    "\n",
    "    </pre>"
   ]
  },
  {
   "cell_type": "code",
   "execution_count": null,
   "metadata": {
    "collapsed": true
   },
   "outputs": [],
   "source": []
  }
 ],
 "metadata": {
  "kernelspec": {
   "display_name": "Python 3",
   "language": "python",
   "name": "python3"
  },
  "language_info": {
   "codemirror_mode": {
    "name": "ipython",
    "version": 3
   },
   "file_extension": ".py",
   "mimetype": "text/x-python",
   "name": "python",
   "nbconvert_exporter": "python",
   "pygments_lexer": "ipython3",
   "version": "3.5.1"
  }
 },
 "nbformat": 4,
 "nbformat_minor": 0
}
