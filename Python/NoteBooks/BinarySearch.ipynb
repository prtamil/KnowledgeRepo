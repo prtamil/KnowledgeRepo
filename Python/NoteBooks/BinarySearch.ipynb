{
 "cells": [
  {
   "cell_type": "code",
   "execution_count": 3,
   "metadata": {},
   "outputs": [],
   "source": [
    "def debug(func):\n",
    "    def wrapper(*args, **kwargs):\n",
    "        print('----------------')\n",
    "        print('Args => ',args)\n",
    "        res = func(*args,**kwargs)\n",
    "        print('Res => ',res)\n",
    "        print('-----------------')\n",
    "        return res\n",
    "    return wrapper"
   ]
  },
  {
   "cell_type": "code",
   "execution_count": 6,
   "metadata": {},
   "outputs": [],
   "source": [
    "@debug\n",
    "def BinarySearchR(A,x):\n",
    "    if len(A) == 0:\n",
    "        return False\n",
    "    else:\n",
    "        mid = len(A) // 2\n",
    "        if x == A[mid]:\n",
    "            return True\n",
    "        if x < A[mid]:\n",
    "            return BinarySearchR(A[:mid],x)\n",
    "        else:\n",
    "            return BinarySearchR(A[mid:],x)"
   ]
  },
  {
   "cell_type": "code",
   "execution_count": 7,
   "metadata": {},
   "outputs": [
    {
     "name": "stdout",
     "output_type": "stream",
     "text": [
      "----------------\n",
      "Args =>  ([1, 2, 3, 4, 5, 6, 7, 8, 9, 10, 11, 12, 13, 14, 15, 16, 17, 18, 19, 20, 21, 22, 23, 24, 25], 16)\n",
      "----------------\n",
      "Args =>  ([13, 14, 15, 16, 17, 18, 19, 20, 21, 22, 23, 24, 25], 16)\n",
      "----------------\n",
      "Args =>  ([13, 14, 15, 16, 17, 18], 16)\n",
      "Res =>  True\n",
      "-----------------\n",
      "Res =>  True\n",
      "-----------------\n",
      "Res =>  True\n",
      "-----------------\n"
     ]
    },
    {
     "data": {
      "text/plain": [
       "True"
      ]
     },
     "execution_count": 7,
     "metadata": {},
     "output_type": "execute_result"
    }
   ],
   "source": [
    "l = list(range(1,26))\n",
    "BinarySearchR(l,16)"
   ]
  },
  {
   "cell_type": "code",
   "execution_count": 1,
   "metadata": {},
   "outputs": [],
   "source": [
    "def binsearch(A,x):\n",
    "    first = 0\n",
    "    last = len(A)\n",
    "    res = False\n",
    "    while first <= last:\n",
    "        mid = (first + last) // 2\n",
    "        if x == A[mid]:\n",
    "            res = True\n",
    "        if x < A[mid]:\n",
    "            first = first\n",
    "            last = mid-1\n",
    "        else:\n",
    "            first = mid+1\n",
    "            last = last\n",
    "    return res"
   ]
  },
  {
   "cell_type": "code",
   "execution_count": 2,
   "metadata": {},
   "outputs": [
    {
     "data": {
      "text/plain": [
       "True"
      ]
     },
     "execution_count": 2,
     "metadata": {},
     "output_type": "execute_result"
    }
   ],
   "source": [
    "l = list(range(1,26))\n",
    "binsearch(l,16)"
   ]
  },
  {
   "cell_type": "code",
   "execution_count": null,
   "metadata": {},
   "outputs": [],
   "source": []
  }
 ],
 "metadata": {
  "kernelspec": {
   "display_name": "Python 3",
   "language": "python",
   "name": "python3"
  },
  "language_info": {
   "codemirror_mode": {
    "name": "ipython",
    "version": 3
   },
   "file_extension": ".py",
   "mimetype": "text/x-python",
   "name": "python",
   "nbconvert_exporter": "python",
   "pygments_lexer": "ipython3",
   "version": "3.6.4"
  }
 },
 "nbformat": 4,
 "nbformat_minor": 2
}
