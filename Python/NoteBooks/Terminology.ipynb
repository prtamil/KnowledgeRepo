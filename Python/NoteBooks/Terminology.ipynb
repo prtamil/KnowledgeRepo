{
 "cells": [
  {
   "cell_type": "markdown",
   "metadata": {},
   "source": [
    "# Terminology\n",
    "## reentrant\n",
    "a computer program or subroutine is called reentrant if it can be interrupted \n",
    "in the middle of its execution and then safely called again (\"re-entered\") \n",
    "\n",
    "Basic guidelines for reentrant\n",
    "\n",
    "- Do not access mutable global or function-static variables.\n",
    "- Do not self-modify code.\n",
    "- Do not invoke another function that is itself non-reentrant."
   ]
  },
  {
   "cell_type": "code",
   "execution_count": null,
   "metadata": {
    "collapsed": true
   },
   "outputs": [],
   "source": []
  }
 ],
 "metadata": {
  "kernelspec": {
   "display_name": "Python 3",
   "language": "python",
   "name": "python3"
  },
  "language_info": {
   "codemirror_mode": {
    "name": "ipython",
    "version": 3
   },
   "file_extension": ".py",
   "mimetype": "text/x-python",
   "name": "python",
   "nbconvert_exporter": "python",
   "pygments_lexer": "ipython3",
   "version": "3.5.1"
  }
 },
 "nbformat": 4,
 "nbformat_minor": 0
}
