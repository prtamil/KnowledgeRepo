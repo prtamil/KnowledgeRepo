{
 "cells": [
  {
   "cell_type": "code",
   "execution_count": 65,
   "metadata": {},
   "outputs": [],
   "source": [
    "class Node:\n",
    "    def __init__(self,x):\n",
    "        self.x = x\n",
    "        self.left = None\n",
    "        self.right = None\n",
    "        \n",
    "    def insert(self,data):\n",
    "        if self.x == None:\n",
    "            self.x = data\n",
    "        else:\n",
    "            if self.x < data:\n",
    "                if self.right == None:\n",
    "                    self.right = Node(data)\n",
    "                else:\n",
    "                    self.right.insert(data)\n",
    "            else:\n",
    "                if self.left == None:\n",
    "                    self.left = Node(data)\n",
    "                else:\n",
    "                    self.left.insert(data)\n",
    "    def inorder(self,res):\n",
    "        if self.left:\n",
    "            self.left.inorder(res)\n",
    "        res.append(str(self.x))\n",
    "        if self.right:\n",
    "            self.right.inorder(res)\n",
    "        \n",
    "                    \n",
    "    def __str__(self):\n",
    "        return '[ '+str(self.x)+'] -> [ '+ str(self.left) + ' , '+ str(self.right)+ ']'\n",
    "        \n",
    "class Tree:\n",
    "    def __init__(self,nd):\n",
    "        self.node = nd\n",
    "        \n",
    "    def _print(self,nd,res):\n",
    "        if nd != None:\n",
    "            self._print(nd.left,res)\n",
    "            res.append(str(nd.x))\n",
    "            self._print(nd.right,res)\n",
    "            \n",
    "    \n",
    "                \n",
    "    def insert(self,x):\n",
    "        if self.node == None:\n",
    "            self.node = Node(x)\n",
    "        else:\n",
    "            self.node.insert(x)\n",
    "            \n",
    "                \n",
    "            \n",
    "    def __str__(self):\n",
    "        res = []\n",
    "        self._print(self.node,res)\n",
    "        return ', '.join(res)\n",
    "                       \n",
    "        \n",
    "            \n",
    "    "
   ]
  },
  {
   "cell_type": "code",
   "execution_count": 66,
   "metadata": {},
   "outputs": [],
   "source": [
    "n = Node(10)\n",
    "n.left = Node(5)\n",
    "n.right = Node(15)"
   ]
  },
  {
   "cell_type": "code",
   "execution_count": 67,
   "metadata": {},
   "outputs": [],
   "source": [
    "t = Tree(n)"
   ]
  },
  {
   "cell_type": "code",
   "execution_count": 68,
   "metadata": {},
   "outputs": [],
   "source": [
    "t.insert(20)\n",
    "t.insert(3)"
   ]
  },
  {
   "cell_type": "code",
   "execution_count": 69,
   "metadata": {},
   "outputs": [
    {
     "data": {
      "text/plain": [
       "'3, 5, 10, 15, 20'"
      ]
     },
     "execution_count": 69,
     "metadata": {},
     "output_type": "execute_result"
    }
   ],
   "source": [
    "str(t)"
   ]
  },
  {
   "cell_type": "code",
   "execution_count": 70,
   "metadata": {},
   "outputs": [
    {
     "name": "stdout",
     "output_type": "stream",
     "text": [
      "['3', '5', '10', '15', '20']\n"
     ]
    }
   ],
   "source": [
    "res = []\n",
    "t.node.inorder(res)\n",
    "print(res)"
   ]
  },
  {
   "cell_type": "code",
   "execution_count": null,
   "metadata": {},
   "outputs": [],
   "source": []
  }
 ],
 "metadata": {
  "kernelspec": {
   "display_name": "Python 3",
   "language": "python",
   "name": "python3"
  },
  "language_info": {
   "codemirror_mode": {
    "name": "ipython",
    "version": 3
   },
   "file_extension": ".py",
   "mimetype": "text/x-python",
   "name": "python",
   "nbconvert_exporter": "python",
   "pygments_lexer": "ipython3",
   "version": "3.6.4"
  }
 },
 "nbformat": 4,
 "nbformat_minor": 2
}
