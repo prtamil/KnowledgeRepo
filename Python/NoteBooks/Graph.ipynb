{
 "cells": [
  {
   "cell_type": "code",
   "execution_count": 21,
   "metadata": {
    "collapsed": true
   },
   "outputs": [],
   "source": [
    "graph = {}\n",
    "graph['me'] = ['papa','yuva']\n",
    "graph['papa']=['me','yuva']\n",
    "graph['yuva']=['me','dhivya','papa']\n",
    "graph['dhivya']=['yuva','papa']"
   ]
  },
  {
   "cell_type": "code",
   "execution_count": 22,
   "metadata": {
    "collapsed": false
   },
   "outputs": [
    {
     "data": {
      "text/plain": [
       "{'dhivya': ['yuva', 'papa'],\n",
       " 'me': ['papa', 'yuva'],\n",
       " 'papa': ['me', 'yuva'],\n",
       " 'yuva': ['me', 'dhivya', 'papa']}"
      ]
     },
     "execution_count": 22,
     "metadata": {},
     "output_type": "execute_result"
    }
   ],
   "source": [
    "graph"
   ]
  },
  {
   "cell_type": "code",
   "execution_count": 23,
   "metadata": {
    "collapsed": false
   },
   "outputs": [],
   "source": [
    "from collections import deque"
   ]
  },
  {
   "cell_type": "code",
   "execution_count": 26,
   "metadata": {
    "collapsed": true
   },
   "outputs": [],
   "source": [
    "def search(name,toname):\n",
    "    search_q = deque()\n",
    "    search_q += graph[name]\n",
    "    searched = []\n",
    "    while search_q:\n",
    "        person = search_q.popleft()\n",
    "        if not person in searched:\n",
    "            if person==toname:\n",
    "                print(\"I found\",person)\n",
    "                print searched\n",
    "                return True\n",
    "            else:\n",
    "                search_q += graph[person]\n",
    "                searched.append(person)\n",
    "    return False\n",
    "            "
   ]
  },
  {
   "cell_type": "code",
   "execution_count": 27,
   "metadata": {
    "collapsed": false
   },
   "outputs": [
    {
     "name": "stdout",
     "output_type": "stream",
     "text": [
      "('I found', 'dhivya')\n",
      "['papa', 'yuva', 'me']\n"
     ]
    },
    {
     "data": {
      "text/plain": [
       "True"
      ]
     },
     "execution_count": 27,
     "metadata": {},
     "output_type": "execute_result"
    }
   ],
   "source": [
    "search('me','dhivya')"
   ]
  },
  {
   "cell_type": "code",
   "execution_count": null,
   "metadata": {
    "collapsed": true
   },
   "outputs": [],
   "source": []
  }
 ],
 "metadata": {
  "kernelspec": {
   "display_name": "Python 2",
   "language": "python",
   "name": "python2"
  },
  "language_info": {
   "codemirror_mode": {
    "name": "ipython",
    "version": 2
   },
   "file_extension": ".py",
   "mimetype": "text/x-python",
   "name": "python",
   "nbconvert_exporter": "python",
   "pygments_lexer": "ipython2",
   "version": "2.7.11+"
  }
 },
 "nbformat": 4,
 "nbformat_minor": 0
}
