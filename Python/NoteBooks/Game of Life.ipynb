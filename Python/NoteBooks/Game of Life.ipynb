{
 "cells": [
  {
   "cell_type": "code",
   "execution_count": 1,
   "metadata": {
    "collapsed": true
   },
   "outputs": [],
   "source": [
    "from collections import Counter"
   ]
  },
  {
   "cell_type": "markdown",
   "metadata": {},
   "source": [
    "### Get all that neibours"
   ]
  },
  {
   "cell_type": "code",
   "execution_count": 2,
   "metadata": {
    "collapsed": true
   },
   "outputs": [],
   "source": [
    "def neighbors(cell):\n",
    "    (x,y) = cell\n",
    "    return [(x-1, y-1), (x, y-1),(x+1,y-1),\n",
    "            (x-1, y),             (x+1,y),\n",
    "            (x-1, y+1), (x, y+1),(x+1, y+1)]\n",
    "        "
   ]
  },
  {
   "cell_type": "code",
   "execution_count": 4,
   "metadata": {
    "collapsed": false
   },
   "outputs": [],
   "source": [
    "def neighbour_counts(world):\n",
    "    return Counter(nb for cell in world\n",
    "                      for nb in neighbors(cell))"
   ]
  },
  {
   "cell_type": "code",
   "execution_count": 11,
   "metadata": {
    "collapsed": false
   },
   "outputs": [],
   "source": [
    "def next_generation(world):\n",
    "    possible_cells = counts = neighbour_counts(world)\n",
    "    return {cell for cell in possible_cells\n",
    "            if (counts[cell] == 3) or (counts[cell] == 2 and \n",
    "                                      cell in world)}"
   ]
  },
  {
   "cell_type": "code",
   "execution_count": 12,
   "metadata": {
    "collapsed": false
   },
   "outputs": [
    {
     "data": {
      "text/plain": [
       "{(1, 2), (1, 3), (2, 3)}"
      ]
     },
     "execution_count": 12,
     "metadata": {},
     "output_type": "execute_result"
    }
   ],
   "source": [
    "world = {(3,1), (1,2), (1,3),(2,3)}\n",
    "next_generation(world)"
   ]
  },
  {
   "cell_type": "markdown",
   "metadata": {},
   "source": [
    "### Run function play n generations and "
   ]
  },
  {
   "cell_type": "code",
   "execution_count": 13,
   "metadata": {
    "collapsed": true
   },
   "outputs": [],
   "source": [
    "def run(world, n):\n",
    "    for x in range(n):\n",
    "        world = next_generation(world)\n",
    "    return world"
   ]
  },
  {
   "cell_type": "code",
   "execution_count": 14,
   "metadata": {
    "collapsed": false
   },
   "outputs": [
    {
     "data": {
      "text/plain": [
       "{(1, 2), (1, 3), (2, 2), (2, 3)}"
      ]
     },
     "execution_count": 14,
     "metadata": {},
     "output_type": "execute_result"
    }
   ],
   "source": [
    "run(world,100)"
   ]
  },
  {
   "cell_type": "markdown",
   "metadata": {},
   "source": [
    "## Display it"
   ]
  },
  {
   "cell_type": "code",
   "execution_count": 15,
   "metadata": {
    "collapsed": true
   },
   "outputs": [],
   "source": [
    "import time\n",
    "from IPython.display import clear_output, display_html"
   ]
  },
  {
   "cell_type": "code",
   "execution_count": 16,
   "metadata": {
    "collapsed": true
   },
   "outputs": [],
   "source": [
    "LIVE = '@'\n",
    "EMPTY = '.'\n",
    "PAD = ' '\n"
   ]
  },
  {
   "cell_type": "code",
   "execution_count": 17,
   "metadata": {
    "collapsed": true
   },
   "outputs": [],
   "source": [
    "def pre(text): return '<pre>' + text + '</pre>'"
   ]
  },
  {
   "cell_type": "code",
   "execution_count": 18,
   "metadata": {
    "collapsed": true
   },
   "outputs": [],
   "source": [
    "def display_run(world, n=10, Xs=range(10), Ys=range(10), pause=0.1):\n",
    "    for g in range(n+1):\n",
    "        clear_output()\n",
    "        display_html('Generation {}, Population{} \\n{}'\n",
    "                      .format(g, len(world), pre(picture(world,Xs,Ys))),\n",
    "                     raw=True)\n",
    "        time.sleep(pause)\n",
    "        world = next_generation(world)\n",
    "        \n",
    "def picture(world, Xs, Ys):\n",
    "    def row(y):\n",
    "        return PAD.join(LIVE if (x,y) in world else EMPTY for x in Xs)\n",
    "    return '\\n'.join(row(y) for y in Ys)"
   ]
  },
  {
   "cell_type": "code",
   "execution_count": 19,
   "metadata": {
    "collapsed": false
   },
   "outputs": [
    {
     "name": "stdout",
     "output_type": "stream",
     "text": [
      ". . . . .\n",
      ". . . @ .\n",
      ". @ . . .\n",
      ". @ @ . .\n",
      ". . . . .\n"
     ]
    }
   ],
   "source": [
    "print(picture(world, range(5), range(5)))"
   ]
  },
  {
   "cell_type": "code",
   "execution_count": 25,
   "metadata": {
    "collapsed": false
   },
   "outputs": [
    {
     "data": {
      "text/html": [
       "Generation 10, Population6 \n",
       "<pre>. . . . . . . . . .\n",
       ". . . . @ . . . . .\n",
       ". . . @ . @ . . . .\n",
       ". . . @ . @ . . . .\n",
       ". . . . @ . . . . .\n",
       ". . . . . . . . . .\n",
       ". . . . . . . . . .\n",
       ". . . . . . . . . .\n",
       ". . . . . . . . . .\n",
       ". . . . . . . . . .</pre>"
      ]
     },
     "metadata": {},
     "output_type": "display_data"
    }
   ],
   "source": [
    "world = {(3,3), (4,3), (4,2),(5,2)}\n",
    "display_run(world, 10, range(10), range(10))"
   ]
  },
  {
   "cell_type": "markdown",
   "metadata": {},
   "source": [
    "### Norvig is Great\n",
    "- I never knew about display_html,clear_output\n",
    "\n",
    "Now we conver pict to cords. Since coords are hard to remeber,"
   ]
  },
  {
   "cell_type": "code",
   "execution_count": 26,
   "metadata": {
    "collapsed": true
   },
   "outputs": [],
   "source": [
    "def move(cells, offset):\n",
    "    (dx, dy) = offset\n",
    "    return {(x+dx, y+dy) for (x,y) in cells}"
   ]
  },
  {
   "cell_type": "code",
   "execution_count": 30,
   "metadata": {
    "collapsed": false
   },
   "outputs": [],
   "source": [
    "def shape(picture, offset=(3,3)):\n",
    "    cells = {(x,y)\n",
    "             for (y, row) in enumerate(picture.splitlines())\n",
    "             for (x, c) in enumerate(row.replace(PAD, ''))\n",
    "             if c == LIVE}\n",
    "    return move(cells, offset)"
   ]
  },
  {
   "cell_type": "code",
   "execution_count": 37,
   "metadata": {
    "collapsed": false
   },
   "outputs": [],
   "source": [
    "blinker      = shape('@@@')\n",
    "block        = shape('@@\\n@@')\n",
    "beacon       = block | move(block, (2,2))\n",
    "toad         = shape('.@@@\\n@@@.')\n",
    "glider       = shape('.@.\\n..@\\n@@@')"
   ]
  },
  {
   "cell_type": "code",
   "execution_count": 44,
   "metadata": {
    "collapsed": false
   },
   "outputs": [
    {
     "data": {
      "text/html": [
       "Generation 20, Population5 \n",
       "<pre>. . . . . . . . . .\n",
       ". . . . . . . . . .\n",
       ". . . . . . . . . .\n",
       ". . . . . . . . . .\n",
       ". . . . . . . . . .\n",
       ". . . . . . . . . .\n",
       ". . . . . . . . . .\n",
       ". . . . . . . . . .\n",
       ". . . . . . . . . @\n",
       ". . . . . . . . . .</pre>"
      ]
     },
     "metadata": {},
     "output_type": "display_data"
    }
   ],
   "source": [
    "display_run(glider,20,range(10), range(10))"
   ]
  },
  {
   "cell_type": "code",
   "execution_count": null,
   "metadata": {
    "collapsed": true
   },
   "outputs": [],
   "source": []
  },
  {
   "cell_type": "code",
   "execution_count": null,
   "metadata": {
    "collapsed": true
   },
   "outputs": [],
   "source": []
  }
 ],
 "metadata": {
  "kernelspec": {
   "display_name": "Python 3",
   "language": "python",
   "name": "python3"
  },
  "language_info": {
   "codemirror_mode": {
    "name": "ipython",
    "version": 3
   },
   "file_extension": ".py",
   "mimetype": "text/x-python",
   "name": "python",
   "nbconvert_exporter": "python",
   "pygments_lexer": "ipython3",
   "version": "3.6.0"
  }
 },
 "nbformat": 4,
 "nbformat_minor": 2
}
