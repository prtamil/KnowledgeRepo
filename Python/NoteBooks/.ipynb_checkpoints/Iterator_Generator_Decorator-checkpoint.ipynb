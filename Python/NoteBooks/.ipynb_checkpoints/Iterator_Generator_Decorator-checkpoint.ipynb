{
 "cells": [
  {
   "cell_type": "markdown",
   "metadata": {},
   "source": [
    "#Iterator\n",
    "Need to overload <pre> \\__iter\\__, \\__next\\__ </pre> and use StopIteration() Exception once it exhausts the container\n"
   ]
  },
  {
   "cell_type": "code",
   "execution_count": 6,
   "metadata": {
    "collapsed": false
   },
   "outputs": [
    {
     "data": {
      "text/plain": [
       "[1, 2, 3, 4, 5, 6, 7, 8, 9]"
      ]
     },
     "execution_count": 6,
     "metadata": {},
     "output_type": "execute_result"
    }
   ],
   "source": [
    "class Counter:\n",
    "    def __init__(self,start,end):\n",
    "        self.start = start\n",
    "        self.end = end\n",
    "    def __iter__(self):\n",
    "        return self\n",
    "    def __next__(self):\n",
    "        if self.start != self.end:\n",
    "            self.start += 1\n",
    "            return self.start - 1\n",
    "        else:\n",
    "            raise StopIteration()\n",
    "        \n",
    "c = Counter(1,10)\n",
    "list(c)"
   ]
  },
  {
   "cell_type": "markdown",
   "metadata": {},
   "source": [
    "# Generator\n",
    "For generator need to modify only \\__iter\\__. \n",
    "Need to do Yield on \\__iter\\__"
   ]
  },
  {
   "cell_type": "code",
   "execution_count": 7,
   "metadata": {
    "collapsed": false
   },
   "outputs": [
    {
     "data": {
      "text/plain": [
       "[1, 2, 3, 4, 5, 6, 7, 8, 9]"
      ]
     },
     "execution_count": 7,
     "metadata": {},
     "output_type": "execute_result"
    }
   ],
   "source": [
    "class CountGen:\n",
    "    def __init__(self,start,end):\n",
    "        self.start = start\n",
    "        self.end = end\n",
    "    def __iter__(self):\n",
    "        while self.start != self.end:\n",
    "            yield self.start\n",
    "            self.start += 1\n",
    "            \n",
    "c = CountGen(1,10)\n",
    "list(c)"
   ]
  },
  {
   "cell_type": "code",
   "execution_count": 1,
   "metadata": {
    "collapsed": false
   },
   "outputs": [
    {
     "name": "stdout",
     "output_type": "stream",
     "text": [
      "sihT sI ATRAPS"
     ]
    }
   ],
   "source": [
    "class ReverseStringIterator:\n",
    "    def __init__(self,string):\n",
    "        self.string = string\n",
    "        self.idx  = len(string)\n",
    "    def __iter__(self):\n",
    "        return self\n",
    "    def __next__(self):\n",
    "        if self.idx == 0:\n",
    "            raise StopIteration()\n",
    "        else:\n",
    "            self.idx -= 1\n",
    "            return self.string[self.idx]\n",
    "    \n",
    "s = ReverseStringIterator('SPARTA Is This')\n",
    "for x in s:\n",
    "    print(x,end='')\n"
   ]
  },
  {
   "cell_type": "code",
   "execution_count": 2,
   "metadata": {
    "collapsed": false
   },
   "outputs": [
    {
     "data": {
      "text/plain": [
       "'arepOpaoS'"
      ]
     },
     "execution_count": 2,
     "metadata": {},
     "output_type": "execute_result"
    }
   ],
   "source": [
    "class ReverseStringGenerator:\n",
    "    def __init__(self,string):\n",
    "        self.string = string\n",
    "    def __iter__(self):\n",
    "        for x in reversed(self.string):\n",
    "            yield x\n",
    "s = ReverseStringGenerator('SoapOpera')\n",
    "''.join(list(s))"
   ]
  },
  {
   "cell_type": "markdown",
   "metadata": {},
   "source": [
    "# Decorators\n",
    "- Used to decorate functions\n",
    "- Uses to add functionality of function without touching code."
   ]
  },
  {
   "cell_type": "code",
   "execution_count": 5,
   "metadata": {
    "collapsed": false
   },
   "outputs": [
    {
     "name": "stdout",
     "output_type": "stream",
     "text": [
      "-----------\n",
      "Name -> sq\n",
      "Args ->  10\n",
      "Res -> 100\n",
      "------------\n"
     ]
    }
   ],
   "source": [
    "def deco(func):\n",
    "    def wrapp(*args,**kwargs):\n",
    "        print('-----------')\n",
    "        res = func(*args,**kwargs)\n",
    "        name = func.__name__\n",
    "        print('Name ->',name)\n",
    "        print('Args -> ',*args,**kwargs)\n",
    "        print('Res ->',res)\n",
    "        print('------------')\n",
    "    return wrapp\n",
    "\n",
    "@deco\n",
    "def sq(x):\n",
    "    return x*x\n",
    "\n",
    "sq(10)"
   ]
  },
  {
   "cell_type": "markdown",
   "metadata": {},
   "source": [
    "## Decorator with parameters\n",
    "- The advantage of using Functools wraps is it can be useful\n",
    "- For debugging. Since it copies all metadata.\n",
    "- It provides debugging info for wrapper functions.\n",
    "- else its hard to debug wrapper functions."
   ]
  },
  {
   "cell_type": "code",
   "execution_count": 7,
   "metadata": {
    "collapsed": false
   },
   "outputs": [],
   "source": [
    "from functools import wraps\n",
    "def debug(prefix=''):\n",
    "    def decorate(func):\n",
    "        msg = prefix+'-> '+func.__qualname__\n",
    "        @wraps(func)\n",
    "        def wrapper(*args, **kwargs):\n",
    "            print(msg)\n",
    "            return func(*args,**kwargs)\n",
    "        return wrapper\n",
    "    return decorate"
   ]
  },
  {
   "cell_type": "code",
   "execution_count": 8,
   "metadata": {
    "collapsed": false
   },
   "outputs": [],
   "source": [
    "@debug(prefix='sparta')\n",
    "def sq(x):\n",
    "    return x*x\n"
   ]
  },
  {
   "cell_type": "code",
   "execution_count": 3,
   "metadata": {
    "collapsed": false
   },
   "outputs": [
    {
     "name": "stdout",
     "output_type": "stream",
     "text": [
      "spartasq\n"
     ]
    },
    {
     "data": {
      "text/plain": [
       "100"
      ]
     },
     "execution_count": 3,
     "metadata": {},
     "output_type": "execute_result"
    }
   ],
   "source": [
    "sq(10)"
   ]
  },
  {
   "cell_type": "markdown",
   "metadata": {},
   "source": [
    "## Class Decorator\n",
    "- Used to decorate all methods in Class\n",
    "- Doesnot work on staticmethods , classmethods need to figureout other way"
   ]
  },
  {
   "cell_type": "code",
   "execution_count": 11,
   "metadata": {
    "collapsed": true
   },
   "outputs": [],
   "source": [
    "#Fn for decorate\n",
    "def mydecofun(fn):\n",
    "    def wrapper(*args,**kwargs):\n",
    "        print('My deco for -> ',fn.__qualname__)\n",
    "        return fn(*args,**kwargs)\n",
    "    return wrapper\n",
    "\n",
    "#Apply decorate function for all methods in class\n",
    "def debugallmethods(cls):\n",
    "    #vars(cls) gives dictornay filled with all attributes\n",
    "    for name,val in vars(cls).items():\n",
    "        #check if val is callable\n",
    "        if callable(val):\n",
    "            #setattr(obj,name,value)\n",
    "            setattr(cls,name,mydecofun(val))\n",
    "    return cls\n",
    "\n",
    "\n"
   ]
  },
  {
   "cell_type": "code",
   "execution_count": 12,
   "metadata": {
    "collapsed": false
   },
   "outputs": [
    {
     "name": "stdout",
     "output_type": "stream",
     "text": [
      "My deco for ->  Spam.__init__\n",
      "My deco for ->  Spam.print\n",
      "10\n"
     ]
    }
   ],
   "source": [
    "@debugallmethods\n",
    "class Spam:\n",
    "    def __init__(self):\n",
    "        self.x = 10\n",
    "    def print(self):\n",
    "        print(self.x)\n",
    "        \n",
    "s = Spam()\n",
    "s.print()"
   ]
  },
  {
   "cell_type": "code",
   "execution_count": null,
   "metadata": {
    "collapsed": true
   },
   "outputs": [],
   "source": []
  }
 ],
 "metadata": {
  "kernelspec": {
   "display_name": "Python 3",
   "language": "python",
   "name": "python3"
  },
  "language_info": {
   "codemirror_mode": {
    "name": "ipython",
    "version": 3
   },
   "file_extension": ".py",
   "mimetype": "text/x-python",
   "name": "python",
   "nbconvert_exporter": "python",
   "pygments_lexer": "ipython3",
   "version": "3.5.1"
  }
 },
 "nbformat": 4,
 "nbformat_minor": 0
}
