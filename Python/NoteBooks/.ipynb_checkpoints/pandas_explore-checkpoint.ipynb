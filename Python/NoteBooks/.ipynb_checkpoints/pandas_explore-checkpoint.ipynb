{
 "cells": [
  {
   "cell_type": "code",
   "execution_count": 1,
   "metadata": {
    "collapsed": true
   },
   "outputs": [],
   "source": [
    "import pandas as pd"
   ]
  },
  {
   "cell_type": "markdown",
   "metadata": {},
   "source": [
    "# Hello "
   ]
  },
  {
   "cell_type": "code",
   "execution_count": 2,
   "metadata": {},
   "outputs": [],
   "source": [
    "bin_data = pd.read_csv('~/BarcodeScript/test1/bin_inventory.csv',dtype={'product_id': object,'master_id':object})"
   ]
  },
  {
   "cell_type": "code",
   "execution_count": 3,
   "metadata": {},
   "outputs": [],
   "source": [
    "carton_data = pd.read_csv('~/BarcodeScript/test1/carton_inventory.csv',dtype={'product_id': object,'master_id':object})\n",
    "bin_data.dropna(how='all',inplace=True)\n",
    "carton_data.dropna(how='all', inplace=True)"
   ]
  },
  {
   "cell_type": "code",
   "execution_count": 4,
   "metadata": {},
   "outputs": [
    {
     "data": {
      "text/html": [
       "<div>\n",
       "<table border=\"1\" class=\"dataframe\">\n",
       "  <thead>\n",
       "    <tr style=\"text-align: right;\">\n",
       "      <th></th>\n",
       "      <th>product_id</th>\n",
       "      <th>master_id</th>\n",
       "      <th>bin_location_code</th>\n",
       "      <th>stock</th>\n",
       "    </tr>\n",
       "  </thead>\n",
       "  <tbody>\n",
       "    <tr>\n",
       "      <th>0</th>\n",
       "      <td>379859</td>\n",
       "      <td>480385</td>\n",
       "      <td>37-Z1-F1-R1-B1-A-A02-10-02-2</td>\n",
       "      <td>900</td>\n",
       "    </tr>\n",
       "    <tr>\n",
       "      <th>1</th>\n",
       "      <td>379859</td>\n",
       "      <td>480385</td>\n",
       "      <td>37-Z1-F1-R1-B1-A-A05-20-02-2</td>\n",
       "      <td>5</td>\n",
       "    </tr>\n",
       "    <tr>\n",
       "      <th>2</th>\n",
       "      <td>379859</td>\n",
       "      <td>480385</td>\n",
       "      <td>37-Z1-F1-R1-B1-A-A05-20-01-3</td>\n",
       "      <td>5</td>\n",
       "    </tr>\n",
       "    <tr>\n",
       "      <th>3</th>\n",
       "      <td>379859</td>\n",
       "      <td>480385</td>\n",
       "      <td>37-Z1-F1-R1-B1-A-A05-20-01-4</td>\n",
       "      <td>0</td>\n",
       "    </tr>\n",
       "    <tr>\n",
       "      <th>4</th>\n",
       "      <td>379859</td>\n",
       "      <td>480385</td>\n",
       "      <td>37-Z1-F1-R1-B1-A-A05-20-01-5</td>\n",
       "      <td>10</td>\n",
       "    </tr>\n",
       "    <tr>\n",
       "      <th>5</th>\n",
       "      <td>379859</td>\n",
       "      <td>480385</td>\n",
       "      <td>37-Z1-F1-R1-B1-A-A05-20-01-6</td>\n",
       "      <td>3</td>\n",
       "    </tr>\n",
       "  </tbody>\n",
       "</table>\n",
       "</div>"
      ],
      "text/plain": [
       "  product_id master_id             bin_location_code  stock\n",
       "0     379859    480385  37-Z1-F1-R1-B1-A-A02-10-02-2    900\n",
       "1     379859    480385  37-Z1-F1-R1-B1-A-A05-20-02-2      5\n",
       "2     379859    480385  37-Z1-F1-R1-B1-A-A05-20-01-3      5\n",
       "3     379859    480385  37-Z1-F1-R1-B1-A-A05-20-01-4      0\n",
       "4     379859    480385  37-Z1-F1-R1-B1-A-A05-20-01-5     10\n",
       "5     379859    480385  37-Z1-F1-R1-B1-A-A05-20-01-6      3"
      ]
     },
     "execution_count": 4,
     "metadata": {},
     "output_type": "execute_result"
    }
   ],
   "source": [
    "bin_data"
   ]
  },
  {
   "cell_type": "code",
   "execution_count": 5,
   "metadata": {
    "scrolled": true
   },
   "outputs": [
    {
     "data": {
      "text/html": [
       "<div>\n",
       "<table border=\"1\" class=\"dataframe\">\n",
       "  <thead>\n",
       "    <tr style=\"text-align: right;\">\n",
       "      <th></th>\n",
       "      <th>product_id</th>\n",
       "      <th>master_id</th>\n",
       "      <th>bin_location_code</th>\n",
       "      <th>carton_qty</th>\n",
       "    </tr>\n",
       "  </thead>\n",
       "  <tbody>\n",
       "    <tr>\n",
       "      <th>0</th>\n",
       "      <td>379859</td>\n",
       "      <td>480385</td>\n",
       "      <td>37-Z1-F1-R1-B1-A-A02-10-02-2</td>\n",
       "      <td>900</td>\n",
       "    </tr>\n",
       "    <tr>\n",
       "      <th>1</th>\n",
       "      <td>379859</td>\n",
       "      <td>480385</td>\n",
       "      <td>37-Z1-F1-R1-B1-A-A05-20-01-2</td>\n",
       "      <td>1</td>\n",
       "    </tr>\n",
       "    <tr>\n",
       "      <th>2</th>\n",
       "      <td>379859</td>\n",
       "      <td>480385</td>\n",
       "      <td>37-Z1-F1-R1-B1-A-A05-20-01-3</td>\n",
       "      <td>10</td>\n",
       "    </tr>\n",
       "    <tr>\n",
       "      <th>3</th>\n",
       "      <td>379859</td>\n",
       "      <td>480385</td>\n",
       "      <td>37-Z1-F1-R1-B1-A-A05-20-01-4</td>\n",
       "      <td>10</td>\n",
       "    </tr>\n",
       "    <tr>\n",
       "      <th>4</th>\n",
       "      <td>379859</td>\n",
       "      <td>480385</td>\n",
       "      <td>37-Z1-F1-R1-B1-A-A05-20-01-5</td>\n",
       "      <td>0</td>\n",
       "    </tr>\n",
       "    <tr>\n",
       "      <th>5</th>\n",
       "      <td>379859</td>\n",
       "      <td>480385</td>\n",
       "      <td>37-Z1-F1-R1-B1-A-A05-20-01-6</td>\n",
       "      <td>5</td>\n",
       "    </tr>\n",
       "  </tbody>\n",
       "</table>\n",
       "</div>"
      ],
      "text/plain": [
       "  product_id master_id             bin_location_code  carton_qty\n",
       "0     379859    480385  37-Z1-F1-R1-B1-A-A02-10-02-2         900\n",
       "1     379859    480385  37-Z1-F1-R1-B1-A-A05-20-01-2           1\n",
       "2     379859    480385  37-Z1-F1-R1-B1-A-A05-20-01-3          10\n",
       "3     379859    480385  37-Z1-F1-R1-B1-A-A05-20-01-4          10\n",
       "4     379859    480385  37-Z1-F1-R1-B1-A-A05-20-01-5           0\n",
       "5     379859    480385  37-Z1-F1-R1-B1-A-A05-20-01-6           5"
      ]
     },
     "execution_count": 5,
     "metadata": {},
     "output_type": "execute_result"
    }
   ],
   "source": [
    "carton_data"
   ]
  },
  {
   "cell_type": "code",
   "execution_count": 6,
   "metadata": {},
   "outputs": [],
   "source": [
    "new_cart = pd.merge(bin_data, carton_data, on=['product_id','master_id','bin_location_code'],how='outer')\n"
   ]
  },
  {
   "cell_type": "code",
   "execution_count": 10,
   "metadata": {
    "scrolled": true
   },
   "outputs": [],
   "source": [
    "from collections import OrderedDict\n",
    "import json"
   ]
  },
  {
   "cell_type": "code",
   "execution_count": 11,
   "metadata": {},
   "outputs": [],
   "source": [
    "s = new_cart.to_json()\n",
    "k = json.loads(s)\n",
    "cols = k.keys()\n",
    "rows = k.values()\n",
    "rowl = [x.values() for x in rows]"
   ]
  },
  {
   "cell_type": "code",
   "execution_count": 12,
   "metadata": {},
   "outputs": [],
   "source": [
    "rowl = [x.values() for x in rows]"
   ]
  },
  {
   "cell_type": "code",
   "execution_count": 15,
   "metadata": {},
   "outputs": [
    {
     "name": "stdout",
     "output_type": "stream",
     "text": [
      "OrderedDict([('product_id', '379859'), ('master_id', '480385'), ('bin_location_code', '37-Z1-F1-R1-B1-A-A02-10-02-2'), ('stock', 900.0), ('carton_qty', 900.0)])\n",
      "OrderedDict([('product_id', '379859'), ('master_id', '480385'), ('bin_location_code', '37-Z1-F1-R1-B1-A-A05-20-02-2'), ('stock', 5.0), ('carton_qty', nan)])\n",
      "OrderedDict([('product_id', '379859'), ('master_id', '480385'), ('bin_location_code', '37-Z1-F1-R1-B1-A-A05-20-01-3'), ('stock', 5.0), ('carton_qty', 10.0)])\n",
      "OrderedDict([('product_id', '379859'), ('master_id', '480385'), ('bin_location_code', '37-Z1-F1-R1-B1-A-A05-20-01-4'), ('stock', 0.0), ('carton_qty', 10.0)])\n",
      "OrderedDict([('product_id', '379859'), ('master_id', '480385'), ('bin_location_code', '37-Z1-F1-R1-B1-A-A05-20-01-5'), ('stock', 10.0), ('carton_qty', 0.0)])\n",
      "OrderedDict([('product_id', '379859'), ('master_id', '480385'), ('bin_location_code', '37-Z1-F1-R1-B1-A-A05-20-01-6'), ('stock', 3.0), ('carton_qty', 5.0)])\n",
      "OrderedDict([('product_id', '379859'), ('master_id', '480385'), ('bin_location_code', '37-Z1-F1-R1-B1-A-A05-20-01-2'), ('stock', nan), ('carton_qty', 1.0)])\n"
     ]
    }
   ],
   "source": [
    "d = [OrderedDict(row) for i ,row in new_cart.iterrows()]\n",
    "for x in d:\n",
    "    print x"
   ]
  },
  {
   "cell_type": "code",
   "execution_count": 36,
   "metadata": {},
   "outputs": [
    {
     "name": "stdout",
     "output_type": "stream",
     "text": [
      "6 6 7\n"
     ]
    }
   ],
   "source": [
    "print len(bin_data),len(carton_data),len(new_cart)"
   ]
  },
  {
   "cell_type": "code",
   "execution_count": 37,
   "metadata": {},
   "outputs": [],
   "source": [
    "new_cart['stock'].fillna(0,inplace=True)\n",
    "new_cart['carton_qty'].fillna(0,inplace=True)"
   ]
  },
  {
   "cell_type": "code",
   "execution_count": 38,
   "metadata": {},
   "outputs": [
    {
     "data": {
      "text/html": [
       "<div>\n",
       "<table border=\"1\" class=\"dataframe\">\n",
       "  <thead>\n",
       "    <tr style=\"text-align: right;\">\n",
       "      <th></th>\n",
       "      <th>product_id</th>\n",
       "      <th>master_id</th>\n",
       "      <th>bin_location_code</th>\n",
       "      <th>stock</th>\n",
       "      <th>carton_qty</th>\n",
       "      <th>bin_diff</th>\n",
       "      <th>carton_diff</th>\n",
       "    </tr>\n",
       "  </thead>\n",
       "  <tbody>\n",
       "    <tr>\n",
       "      <th>0</th>\n",
       "      <td>379859</td>\n",
       "      <td>480385</td>\n",
       "      <td>37-Z1-F1-R1-B1-A-A02-10-02-2</td>\n",
       "      <td>900</td>\n",
       "      <td>900</td>\n",
       "      <td>0</td>\n",
       "      <td>0</td>\n",
       "    </tr>\n",
       "    <tr>\n",
       "      <th>1</th>\n",
       "      <td>379859</td>\n",
       "      <td>480385</td>\n",
       "      <td>37-Z1-F1-R1-B1-A-A05-20-02-2</td>\n",
       "      <td>5</td>\n",
       "      <td>0</td>\n",
       "      <td>5</td>\n",
       "      <td>-5</td>\n",
       "    </tr>\n",
       "    <tr>\n",
       "      <th>2</th>\n",
       "      <td>379859</td>\n",
       "      <td>480385</td>\n",
       "      <td>37-Z1-F1-R1-B1-A-A05-20-01-3</td>\n",
       "      <td>5</td>\n",
       "      <td>10</td>\n",
       "      <td>-5</td>\n",
       "      <td>5</td>\n",
       "    </tr>\n",
       "    <tr>\n",
       "      <th>3</th>\n",
       "      <td>379859</td>\n",
       "      <td>480385</td>\n",
       "      <td>37-Z1-F1-R1-B1-A-A05-20-01-4</td>\n",
       "      <td>0</td>\n",
       "      <td>10</td>\n",
       "      <td>-10</td>\n",
       "      <td>10</td>\n",
       "    </tr>\n",
       "    <tr>\n",
       "      <th>4</th>\n",
       "      <td>379859</td>\n",
       "      <td>480385</td>\n",
       "      <td>37-Z1-F1-R1-B1-A-A05-20-01-5</td>\n",
       "      <td>10</td>\n",
       "      <td>0</td>\n",
       "      <td>10</td>\n",
       "      <td>-10</td>\n",
       "    </tr>\n",
       "    <tr>\n",
       "      <th>5</th>\n",
       "      <td>379859</td>\n",
       "      <td>480385</td>\n",
       "      <td>37-Z1-F1-R1-B1-A-A05-20-01-6</td>\n",
       "      <td>3</td>\n",
       "      <td>5</td>\n",
       "      <td>-2</td>\n",
       "      <td>2</td>\n",
       "    </tr>\n",
       "    <tr>\n",
       "      <th>6</th>\n",
       "      <td>379859</td>\n",
       "      <td>480385</td>\n",
       "      <td>37-Z1-F1-R1-B1-A-A05-20-01-2</td>\n",
       "      <td>0</td>\n",
       "      <td>1</td>\n",
       "      <td>-1</td>\n",
       "      <td>1</td>\n",
       "    </tr>\n",
       "  </tbody>\n",
       "</table>\n",
       "</div>"
      ],
      "text/plain": [
       "  product_id master_id             bin_location_code  stock  carton_qty  \\\n",
       "0     379859    480385  37-Z1-F1-R1-B1-A-A02-10-02-2    900         900   \n",
       "1     379859    480385  37-Z1-F1-R1-B1-A-A05-20-02-2      5           0   \n",
       "2     379859    480385  37-Z1-F1-R1-B1-A-A05-20-01-3      5          10   \n",
       "3     379859    480385  37-Z1-F1-R1-B1-A-A05-20-01-4      0          10   \n",
       "4     379859    480385  37-Z1-F1-R1-B1-A-A05-20-01-5     10           0   \n",
       "5     379859    480385  37-Z1-F1-R1-B1-A-A05-20-01-6      3           5   \n",
       "6     379859    480385  37-Z1-F1-R1-B1-A-A05-20-01-2      0           1   \n",
       "\n",
       "   bin_diff  carton_diff  \n",
       "0         0            0  \n",
       "1         5           -5  \n",
       "2        -5            5  \n",
       "3       -10           10  \n",
       "4        10          -10  \n",
       "5        -2            2  \n",
       "6        -1            1  "
      ]
     },
     "execution_count": 38,
     "metadata": {},
     "output_type": "execute_result"
    }
   ],
   "source": [
    "new_cart['stock']=new_cart['stock'].astype(int)\n",
    "new_cart['carton_qty']=new_cart['carton_qty'].astype(int)\n",
    "new_cart['bin_diff']=new_cart['stock'] - new_cart['carton_qty']\n",
    "new_cart['carton_diff']=new_cart['carton_qty'] - new_cart['stock']\n",
    "new_cart"
   ]
  },
  {
   "cell_type": "code",
   "execution_count": 10,
   "metadata": {
    "collapsed": true
   },
   "outputs": [],
   "source": [
    "x = [{'a':1,'b':2},{'a':3,'b':4}]\n",
    "\n",
    "df = pd.DataFrame(x)"
   ]
  },
  {
   "cell_type": "code",
   "execution_count": 11,
   "metadata": {},
   "outputs": [
    {
     "data": {
      "text/html": [
       "<div>\n",
       "<table border=\"1\" class=\"dataframe\">\n",
       "  <thead>\n",
       "    <tr style=\"text-align: right;\">\n",
       "      <th></th>\n",
       "      <th>a</th>\n",
       "      <th>b</th>\n",
       "    </tr>\n",
       "  </thead>\n",
       "  <tbody>\n",
       "    <tr>\n",
       "      <th>0</th>\n",
       "      <td>1</td>\n",
       "      <td>2</td>\n",
       "    </tr>\n",
       "    <tr>\n",
       "      <th>1</th>\n",
       "      <td>3</td>\n",
       "      <td>4</td>\n",
       "    </tr>\n",
       "  </tbody>\n",
       "</table>\n",
       "</div>"
      ],
      "text/plain": [
       "   a  b\n",
       "0  1  2\n",
       "1  3  4"
      ]
     },
     "execution_count": 11,
     "metadata": {},
     "output_type": "execute_result"
    }
   ],
   "source": [
    "df\n"
   ]
  },
  {
   "cell_type": "code",
   "execution_count": 12,
   "metadata": {
    "collapsed": true
   },
   "outputs": [],
   "source": [
    "df.drop('a',axis=1,inplace=True)"
   ]
  },
  {
   "cell_type": "code",
   "execution_count": 13,
   "metadata": {},
   "outputs": [
    {
     "data": {
      "text/html": [
       "<div>\n",
       "<table border=\"1\" class=\"dataframe\">\n",
       "  <thead>\n",
       "    <tr style=\"text-align: right;\">\n",
       "      <th></th>\n",
       "      <th>b</th>\n",
       "    </tr>\n",
       "  </thead>\n",
       "  <tbody>\n",
       "    <tr>\n",
       "      <th>0</th>\n",
       "      <td>2</td>\n",
       "    </tr>\n",
       "    <tr>\n",
       "      <th>1</th>\n",
       "      <td>4</td>\n",
       "    </tr>\n",
       "  </tbody>\n",
       "</table>\n",
       "</div>"
      ],
      "text/plain": [
       "   b\n",
       "0  2\n",
       "1  4"
      ]
     },
     "execution_count": 13,
     "metadata": {},
     "output_type": "execute_result"
    }
   ],
   "source": [
    "df"
   ]
  },
  {
   "cell_type": "code",
   "execution_count": null,
   "metadata": {
    "collapsed": true
   },
   "outputs": [],
   "source": []
  }
 ],
 "metadata": {
  "kernelspec": {
   "display_name": "Python 3",
   "language": "python",
   "name": "python3"
  },
  "language_info": {
   "codemirror_mode": {
    "name": "ipython",
    "version": 3
   },
   "file_extension": ".py",
   "mimetype": "text/x-python",
   "name": "python",
   "nbconvert_exporter": "python",
   "pygments_lexer": "ipython3",
   "version": "3.6.6"
  }
 },
 "nbformat": 4,
 "nbformat_minor": 1
}
