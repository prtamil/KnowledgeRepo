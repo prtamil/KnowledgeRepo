{
 "metadata": {
  "name": "",
  "signature": "sha256:89747c1a40198b3cd3a43055bde14d9aec441a712e4db547ea539d1b4ae1895b"
 },
 "nbformat": 3,
 "nbformat_minor": 0,
 "worksheets": [
  {
   "cells": [
    {
     "cell_type": "code",
     "collapsed": false,
     "input": [
      "import itertools\n",
      "import os\n",
      "import subprocess\n",
      "import urllib"
     ],
     "language": "python",
     "metadata": {},
     "outputs": [],
     "prompt_number": 1
    },
    {
     "cell_type": "code",
     "collapsed": false,
     "input": [
      "theme_names = ['3024-dark',\n",
      "               '3024-light',\n",
      "               'atelierdune-dark',\n",
      "               'atelierdune-light',\n",
      "               'atelierforest-dark',\n",
      "               'atelierforest-light',\n",
      "               'atelierheath-dark',\n",
      "               'atelierheath-light',\n",
      "               'atelierlakeside-dark',\n",
      "               'atelierlakeside-light',\n",
      "               'atelierseaside-dark',\n",
      "               'atelierseaside-light',\n",
      "               'bespin-dark',\n",
      "               'bespin-light',\n",
      "               'chalk-dark',\n",
      "               'chalk-light',\n",
      "               'default-dark',\n",
      "               'default-light',\n",
      "               'eighties-dark',\n",
      "               'eighties-light',\n",
      "               'grayscale-dark',\n",
      "               'grayscale-light',\n",
      "               'greenscreen-dark',\n",
      "               'greenscreen-light',\n",
      "               'isotope-dark',\n",
      "               'isotope-light',\n",
      "               'londontube-dark',\n",
      "               'londontube-light',\n",
      "               'marrakesh-dark',\n",
      "               'marrakesh-light',\n",
      "               'mocha-dark',\n",
      "               'mocha-light',\n",
      "               'monokai-dark',\n",
      "               'monokai-light',\n",
      "               'ocean-dark',\n",
      "               'ocean-light',\n",
      "               'paraiso-dark',\n",
      "               'paraiso-light',\n",
      "               'railscasts-dark',\n",
      "               'railscasts-light',\n",
      "               'shapeshifter-dark',\n",
      "               'shapeshifter-light',\n",
      "               'solarized-dark',\n",
      "               'solarized-light',\n",
      "               'tomorrow-dark',\n",
      "               'tomorrow-light',\n",
      "               'twilight-dark',\n",
      "               'twilight-light']"
     ],
     "language": "python",
     "metadata": {},
     "outputs": [],
     "prompt_number": 2
    },
    {
     "cell_type": "code",
     "collapsed": false,
     "input": [
      "theme_names = [\n",
      "               'greenscreen-dark',\n",
      "               'greenscreen-light',\n",
      "               'monokai-dark',\n",
      "               'monokai-light',\n",
      "               'solarized-dark',\n",
      "               'solarized-light']"
     ],
     "language": "python",
     "metadata": {},
     "outputs": [],
     "prompt_number": 4
    },
    {
     "cell_type": "code",
     "collapsed": false,
     "input": [
      "for i in theme_names:\n",
      "    !ipython profile create $i\n",
      "    profile_dir = !ipython locate profile $i\n",
      "    url = \"https://raw.githubusercontent.com/nsonnad/base16-ipython-notebook/master/base16-\" + i + \".css\"\n",
      "    tgt = os.path.join(profile_dir[0], 'static', 'custom', \"custom.css\")\n",
      "    urllib.request.urlretrieve (url, tgt)"
     ],
     "language": "python",
     "metadata": {},
     "outputs": [
      {
       "output_type": "stream",
       "stream": "stdout",
       "text": [
        "[ProfileCreate] Generating default config file: '/home/tamil/.ipython/profile_greenscreen-light/ipython_config.py'\r\n"
       ]
      },
      {
       "output_type": "stream",
       "stream": "stdout",
       "text": [
        "[ProfileCreate] Generating default config file: '/home/tamil/.ipython/profile_greenscreen-light/ipython_qtconsole_config.py'\r\n"
       ]
      },
      {
       "output_type": "stream",
       "stream": "stdout",
       "text": [
        "[ProfileCreate] Generating default config file: '/home/tamil/.ipython/profile_greenscreen-light/ipython_notebook_config.py'\r\n"
       ]
      },
      {
       "output_type": "stream",
       "stream": "stdout",
       "text": [
        "[ProfileCreate] Generating default config file: '/home/tamil/.ipython/profile_greenscreen-light/ipython_nbconvert_config.py'\r\n"
       ]
      },
      {
       "output_type": "stream",
       "stream": "stdout",
       "text": [
        "[ProfileCreate] Generating default config file: '/home/tamil/.ipython/profile_monokai-dark/ipython_config.py'\r\n"
       ]
      },
      {
       "output_type": "stream",
       "stream": "stdout",
       "text": [
        "[ProfileCreate] Generating default config file: '/home/tamil/.ipython/profile_monokai-dark/ipython_qtconsole_config.py'\r\n"
       ]
      },
      {
       "output_type": "stream",
       "stream": "stdout",
       "text": [
        "[ProfileCreate] Generating default config file: '/home/tamil/.ipython/profile_monokai-dark/ipython_notebook_config.py'\r\n"
       ]
      },
      {
       "output_type": "stream",
       "stream": "stdout",
       "text": [
        "[ProfileCreate] Generating default config file: '/home/tamil/.ipython/profile_monokai-dark/ipython_nbconvert_config.py'\r\n"
       ]
      },
      {
       "output_type": "stream",
       "stream": "stdout",
       "text": [
        "[ProfileCreate] Generating default config file: '/home/tamil/.ipython/profile_monokai-light/ipython_config.py'\r\n"
       ]
      },
      {
       "output_type": "stream",
       "stream": "stdout",
       "text": [
        "[ProfileCreate] Generating default config file: '/home/tamil/.ipython/profile_monokai-light/ipython_qtconsole_config.py'\r\n"
       ]
      },
      {
       "output_type": "stream",
       "stream": "stdout",
       "text": [
        "[ProfileCreate] Generating default config file: '/home/tamil/.ipython/profile_monokai-light/ipython_notebook_config.py'\r\n"
       ]
      },
      {
       "output_type": "stream",
       "stream": "stdout",
       "text": [
        "[ProfileCreate] Generating default config file: '/home/tamil/.ipython/profile_monokai-light/ipython_nbconvert_config.py'\r\n"
       ]
      },
      {
       "output_type": "stream",
       "stream": "stdout",
       "text": [
        "[ProfileCreate] Generating default config file: '/home/tamil/.ipython/profile_solarized-dark/ipython_config.py'\r\n"
       ]
      },
      {
       "output_type": "stream",
       "stream": "stdout",
       "text": [
        "[ProfileCreate] Generating default config file: '/home/tamil/.ipython/profile_solarized-dark/ipython_qtconsole_config.py'\r\n"
       ]
      },
      {
       "output_type": "stream",
       "stream": "stdout",
       "text": [
        "[ProfileCreate] Generating default config file: '/home/tamil/.ipython/profile_solarized-dark/ipython_notebook_config.py'\r\n"
       ]
      },
      {
       "output_type": "stream",
       "stream": "stdout",
       "text": [
        "[ProfileCreate] Generating default config file: '/home/tamil/.ipython/profile_solarized-dark/ipython_nbconvert_config.py'\r\n"
       ]
      },
      {
       "output_type": "stream",
       "stream": "stdout",
       "text": [
        "[ProfileCreate] Generating default config file: '/home/tamil/.ipython/profile_solarized-light/ipython_config.py'\r\n"
       ]
      },
      {
       "output_type": "stream",
       "stream": "stdout",
       "text": [
        "[ProfileCreate] Generating default config file: '/home/tamil/.ipython/profile_solarized-light/ipython_qtconsole_config.py'\r\n"
       ]
      },
      {
       "output_type": "stream",
       "stream": "stdout",
       "text": [
        "[ProfileCreate] Generating default config file: '/home/tamil/.ipython/profile_solarized-light/ipython_notebook_config.py'\r\n"
       ]
      },
      {
       "output_type": "stream",
       "stream": "stdout",
       "text": [
        "[ProfileCreate] Generating default config file: '/home/tamil/.ipython/profile_solarized-light/ipython_nbconvert_config.py'\r\n"
       ]
      }
     ],
     "prompt_number": 6
    },
    {
     "cell_type": "heading",
     "level": 6,
     "metadata": {},
     "source": [
      "use it like ipython notebook --profile=\"solarized-light\" --port=\"8080\" --no-browser"
     ]
    },
    {
     "cell_type": "code",
     "collapsed": false,
     "input": [],
     "language": "python",
     "metadata": {},
     "outputs": []
    }
   ],
   "metadata": {}
  }
 ]
}