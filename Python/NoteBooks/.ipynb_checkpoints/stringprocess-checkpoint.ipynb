{
 "metadata": {
  "name": "",
  "signature": "sha256:f7eca8ec2cf0ee921ec05c04404c7ee8373b76525fc57ca94f6d8eeb5589e80f"
 },
 "nbformat": 3,
 "nbformat_minor": 0,
 "worksheets": [
  {
   "cells": [
    {
     "cell_type": "code",
     "collapsed": false,
     "input": [
      "import itertools\n",
      "\n",
      "def rle(s):\n",
      "    res = [(c,len(list(gen))) for c,gen in itertools.groupby(s)]\n",
      "    return res"
     ],
     "language": "python",
     "metadata": {},
     "outputs": [],
     "prompt_number": 1
    },
    {
     "cell_type": "code",
     "collapsed": false,
     "input": [
      "rle('aaaaabbbbbaaaaacccccbbbb')"
     ],
     "language": "python",
     "metadata": {},
     "outputs": [
      {
       "metadata": {},
       "output_type": "pyout",
       "prompt_number": 2,
       "text": [
        "[('a', 5), ('b', 5), ('a', 5), ('c', 5), ('b', 4)]"
       ]
      }
     ],
     "prompt_number": 2
    },
    {
     "cell_type": "markdown",
     "metadata": {},
     "source": [
      "Auto Vivification in python\n",
      "<p> This will create dict of dicts easily </p>"
     ]
    },
    {
     "cell_type": "code",
     "collapsed": false,
     "input": [
      "from collections import defaultdict\n",
      "\n",
      "Tree = lambda: defaultdict(Tree)"
     ],
     "language": "python",
     "metadata": {},
     "outputs": [],
     "prompt_number": 1
    },
    {
     "cell_type": "code",
     "collapsed": false,
     "input": [
      "T = Tree()\n",
      "T['tamil']['yuva']=12\n",
      "T['tamil']['tharani'] = 14"
     ],
     "language": "python",
     "metadata": {},
     "outputs": [],
     "prompt_number": 4
    },
    {
     "cell_type": "code",
     "collapsed": false,
     "input": [
      "print(T)"
     ],
     "language": "python",
     "metadata": {},
     "outputs": [
      {
       "output_type": "stream",
       "stream": "stdout",
       "text": [
        "defaultdict(<function <lambda> at 0xb521fa4c>, {'tamil': defaultdict(<function <lambda> at 0xb521fa4c>, {'tharani': 14, 'yuva': 12})})\n"
       ]
      }
     ],
     "prompt_number": 6
    },
    {
     "cell_type": "code",
     "collapsed": false,
     "input": [
      "import pprint\n",
      "pprint.pprint(T)"
     ],
     "language": "python",
     "metadata": {},
     "outputs": [
      {
       "output_type": "stream",
       "stream": "stdout",
       "text": [
        "{'tamil': {'tharani': 14,\n",
        "           'yuva': 12}}\n"
       ]
      }
     ],
     "prompt_number": 10
    },
    {
     "cell_type": "code",
     "collapsed": false,
     "input": [
      "import regex"
     ],
     "language": "python",
     "metadata": {},
     "outputs": [],
     "prompt_number": 2
    },
    {
     "cell_type": "code",
     "collapsed": false,
     "input": [
      "regex.split('(?V1)(-)','a-beautiful-day-papa')"
     ],
     "language": "python",
     "metadata": {},
     "outputs": [
      {
       "metadata": {},
       "output_type": "pyout",
       "prompt_number": 5,
       "text": [
        "['a', '-', 'beautiful', '-', 'day', '-', 'papa']"
       ]
      }
     ],
     "prompt_number": 5
    },
    {
     "cell_type": "code",
     "collapsed": false,
     "input": [
      "def tsplit(s,sep=' '):\n",
      "    res = []\n",
      "    iidx = 0\n",
      "    for ci,c in enumerate(s):\n",
      "        if c == sep:\n",
      "            res += [s[iidx:ci]]\n",
      "            iidx = ci+1\n",
      "    res += [s[iidx:]]\n",
      "    return res"
     ],
     "language": "python",
     "metadata": {},
     "outputs": []
    }
   ],
   "metadata": {}
  }
 ]
}