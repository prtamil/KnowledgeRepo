{
 "metadata": {
  "name": "",
  "signature": "sha256:e7376cc646e4e928124bf1a7285a74f5ca405e835f22ad8b8712ce6979a00172"
 },
 "nbformat": 3,
 "nbformat_minor": 0,
 "worksheets": []
}