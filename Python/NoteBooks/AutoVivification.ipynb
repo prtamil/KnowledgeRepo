{
 "metadata": {
  "name": "",
  "signature": "sha256:a52c26ef934fd97419149c6c9081402bcd9cad52a37737b9e0bde4aa7386a450"
 },
 "nbformat": 3,
 "nbformat_minor": 0,
 "worksheets": [
  {
   "cells": [
    {
     "cell_type": "code",
     "collapsed": false,
     "input": [
      "from IPython.core.display import HTML\n",
      "\n",
      "def M(s):\n",
      "    raw_html = s\n",
      "    return HTML(raw_html)\n"
     ],
     "language": "python",
     "metadata": {},
     "outputs": [],
     "prompt_number": 4
    },
    {
     "cell_type": "code",
     "collapsed": false,
     "input": [
      "M(''' <h1> Autovivification </h1> \n",
      "       <h6> autovivification is the automatic creation of new arrays and hashes as required every time an undefined value is dereferenced\n",
      "       </h6>''' )"
     ],
     "language": "python",
     "metadata": {},
     "outputs": [
      {
       "html": [
        " <h1> Autovivification </h1> \n",
        "       <h6> autovivification is the automatic creation of new arrays and hashes as required every time an undefined value is dereferenced\n",
        "       </h6>"
       ],
       "metadata": {},
       "output_type": "pyout",
       "prompt_number": 5,
       "text": [
        "<IPython.core.display.HTML at 0xb514d14c>"
       ]
      }
     ],
     "prompt_number": 5
    },
    {
     "cell_type": "heading",
     "level": 1,
     "metadata": {},
     "source": [
      "Method 1"
     ]
    },
    {
     "cell_type": "code",
     "collapsed": false,
     "input": [
      "# yo dawg, i heard you liked dicts                                                                      \n",
      "def yodict():\n",
      "    return defaultdict(yodict)\n",
      "\n",
      "Vdict = lambda *args, **kwargs: defaultdict(Vdict, *args, **kwargs)\n"
     ],
     "language": "python",
     "metadata": {},
     "outputs": [],
     "prompt_number": 18
    },
    {
     "cell_type": "heading",
     "level": 1,
     "metadata": {},
     "source": [
      "Method 2"
     ]
    },
    {
     "cell_type": "code",
     "collapsed": false,
     "input": [
      "class Vividict(dict):\n",
      "    def __missing__(self, key):\n",
      "        value = self[key] = type(self)()\n",
      "        return value\n"
     ],
     "language": "python",
     "metadata": {},
     "outputs": [],
     "prompt_number": 19
    },
    {
     "cell_type": "heading",
     "level": 6,
     "metadata": {},
     "source": [
      "The explanation: we're just providing another nested instance of our class Vividict whenever a key is accessed but missing. (Returning the value assignment is useful because it avoids us additionally calling the getter on the dict, and unfortunately, we can't return it as it is being set.)\n",
      "\n",
      "\n"
     ]
    },
    {
     "cell_type": "heading",
     "level": 1,
     "metadata": {},
     "source": [
      "Demonstration of Usage"
     ]
    },
    {
     "cell_type": "heading",
     "level": 6,
     "metadata": {},
     "source": [
      "\n",
      "Below is just an example of how this dict could be easily used to create a nested dict structure on the fly. This can quickly create a hierarchical tree structure as deeply as you might want to go."
     ]
    },
    {
     "cell_type": "code",
     "collapsed": false,
     "input": [
      "import pprint\n",
      "\n",
      "class Vividict(dict):\n",
      "    def __missing__(self, key):\n",
      "        value = self[key] = type(self)()\n",
      "        return value\n",
      "\n",
      "d = Vividict()\n",
      "\n",
      "d['foo']['bar']\n",
      "d['foo']['baz']\n",
      "d['fizz']['buzz']\n",
      "d['primary']['secondary']['tertiary']['quaternary']\n",
      "pprint.pprint(d)\n"
     ],
     "language": "python",
     "metadata": {},
     "outputs": [
      {
       "output_type": "stream",
       "stream": "stdout",
       "text": [
        "{'fizz': {'buzz': {}},\n",
        " 'foo': {'bar': {}, 'baz': {}},\n",
        " 'primary': {'secondary': {'tertiary': {'quaternary': {}}}}}\n"
       ]
      }
     ],
     "prompt_number": 20
    },
    {
     "cell_type": "heading",
     "level": 2,
     "metadata": {},
     "source": [
      "Method 3"
     ]
    },
    {
     "cell_type": "code",
     "collapsed": false,
     "input": [
      "\n",
      "from collections import defaultdict\n",
      "def make_dict():\n",
      "    return defaultdict(make_dict)\n"
     ],
     "language": "python",
     "metadata": {},
     "outputs": [],
     "prompt_number": 21
    },
    {
     "cell_type": "code",
     "collapsed": false,
     "input": [
      "d=defaultdict(make_dict)\n",
      "d[\"food\"][\"meat\"]=\"beef\"\n",
      "d[\"food\"][\"veggie\"]=\"corn\"\n",
      "d[\"food\"][\"sweets\"]=\"ice cream\"\n",
      "d[\"animal\"][\"pet\"][\"dog\"]=\"collie\"\n",
      "d[\"animal\"][\"pet\"][\"cat\"]=\"tabby\"\n",
      "d[\"animal\"][\"farm animal\"]=\"chicken\"\n"
     ],
     "language": "python",
     "metadata": {},
     "outputs": [],
     "prompt_number": 22
    },
    {
     "cell_type": "heading",
     "level": 6,
     "metadata": {},
     "source": [
      "using like below"
     ]
    },
    {
     "cell_type": "code",
     "collapsed": false,
     "input": [
      "def iter_all(d,depth=1):\n",
      "    for k,v in d.items():\n",
      "        print (\"-\"*depth,k)\n",
      "        if type(v) is defaultdict:\n",
      "            iter_all(v,depth+1)\n",
      "        else:\n",
      "            print (\"-\"*(depth+1),v)\n",
      "\n",
      "iter_all(d)\n"
     ],
     "language": "python",
     "metadata": {},
     "outputs": [
      {
       "output_type": "stream",
       "stream": "stdout",
       "text": [
        "- food\n",
        "-- veggie\n",
        "--- corn\n",
        "-- sweets\n",
        "--- ice cream\n",
        "-- meat\n",
        "--- beef\n",
        "- animal\n",
        "-- pet\n",
        "--- dog\n",
        "---- collie\n",
        "--- cat\n",
        "---- tabby\n",
        "-- farm animal\n",
        "--- chicken\n"
       ]
      }
     ],
     "prompt_number": 29
    },
    {
     "cell_type": "code",
     "collapsed": false,
     "input": [],
     "language": "python",
     "metadata": {},
     "outputs": []
    }
   ],
   "metadata": {}
  }
 ]
}