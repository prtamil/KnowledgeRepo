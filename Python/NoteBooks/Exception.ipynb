{
 "cells": [
  {
   "cell_type": "markdown",
   "metadata": {},
   "source": [
    "# Exceptions"
   ]
  },
  {
   "cell_type": "code",
   "execution_count": 4,
   "metadata": {
    "collapsed": false
   },
   "outputs": [
    {
     "name": "stdout",
     "output_type": "stream",
     "text": [
      "start here\n",
      "catched here\n",
      "after wards\n"
     ]
    }
   ],
   "source": [
    "try:\n",
    "    print('start here')\n",
    "    1/0\n",
    "    print('came here')\n",
    "except:\n",
    "    print('catched here')\n",
    "print('after wards')"
   ]
  },
  {
   "cell_type": "code",
   "execution_count": 7,
   "metadata": {
    "collapsed": false
   },
   "outputs": [
    {
     "name": "stdout",
     "output_type": "stream",
     "text": [
      "start here\n",
      "catched here\n",
      "(<class 'ZeroDivisionError'>, ZeroDivisionError('division by zero',), <traceback object at 0x104383688>)\n",
      "re raised here\n"
     ]
    },
    {
     "ename": "ZeroDivisionError",
     "evalue": "division by zero",
     "output_type": "error",
     "traceback": [
      "\u001b[0;31m---------------------------------------------------------------------------\u001b[0m",
      "\u001b[0;31mZeroDivisionError\u001b[0m                         Traceback (most recent call last)",
      "\u001b[0;32m<ipython-input-7-07902f05e780>\u001b[0m in \u001b[0;36m<module>\u001b[0;34m()\u001b[0m\n\u001b[1;32m      3\u001b[0m \u001b[0;32mtry\u001b[0m\u001b[0;34m:\u001b[0m\u001b[0;34m\u001b[0m\u001b[0m\n\u001b[1;32m      4\u001b[0m     \u001b[0mprint\u001b[0m\u001b[0;34m(\u001b[0m\u001b[0;34m'start here'\u001b[0m\u001b[0;34m)\u001b[0m\u001b[0;34m\u001b[0m\u001b[0m\n\u001b[0;32m----> 5\u001b[0;31m     \u001b[0;36m1\u001b[0m\u001b[0;34m/\u001b[0m\u001b[0;36m0\u001b[0m\u001b[0;34m\u001b[0m\u001b[0m\n\u001b[0m\u001b[1;32m      6\u001b[0m     \u001b[0mprint\u001b[0m\u001b[0;34m(\u001b[0m\u001b[0;34m'came here'\u001b[0m\u001b[0;34m)\u001b[0m\u001b[0;34m\u001b[0m\u001b[0m\n\u001b[1;32m      7\u001b[0m \u001b[0;32mexcept\u001b[0m\u001b[0;34m:\u001b[0m\u001b[0;34m\u001b[0m\u001b[0m\n",
      "\u001b[0;31mZeroDivisionError\u001b[0m: division by zero"
     ]
    }
   ],
   "source": [
    "import sys\n",
    "\n",
    "try:\n",
    "    print('start here')\n",
    "    1/0\n",
    "    print('came here')\n",
    "except:\n",
    "    print('catched here')\n",
    "    print(sys.exc_info())\n",
    "    print('re raised here')\n",
    "    raise"
   ]
  },
  {
   "cell_type": "code",
   "execution_count": 11,
   "metadata": {
    "collapsed": false
   },
   "outputs": [
    {
     "name": "stdout",
     "output_type": "stream",
     "text": [
      "start here\n",
      "a val assigned\n",
      "if no exception then we will execute\n",
      "13\n",
      "over\n"
     ]
    }
   ],
   "source": [
    "import sys\n",
    "try:\n",
    "    print('start here')\n",
    "    a = 12 + 1\n",
    "    #a = 1 / 0\n",
    "    print('a val assigned')\n",
    "except:\n",
    "    print('exception catched')\n",
    "else:\n",
    "    print('if no exception then we will execute')\n",
    "    print(a)\n",
    "    print('over')"
   ]
  },
  {
   "cell_type": "markdown",
   "metadata": {},
   "source": [
    "A finally clause is always executed before leaving the try statement, whether an exception has occurred or not"
   ]
  },
  {
   "cell_type": "code",
   "execution_count": 14,
   "metadata": {
    "collapsed": false
   },
   "outputs": [
    {
     "name": "stdout",
     "output_type": "stream",
     "text": [
      "i will print only when everthing is success\n",
      "no matter what happens i will execute here\n"
     ]
    }
   ],
   "source": [
    "try:\n",
    "    #a = 10/0\n",
    "    a = 10\n",
    "except Exception as e:\n",
    "    print(e)\n",
    "else:\n",
    "    print('i will print only when everthing is success')\n",
    "finally:\n",
    "    print('no matter what happens i will execute here')"
   ]
  },
  {
   "cell_type": "markdown",
   "metadata": {},
   "source": [
    "https://docs.python.org/3/library/exceptions.html#bltin-exceptions\n",
    "\n",
    "Check for builtin Exceptions\n",
    "\n",
    "- For user defined Exception always use Exception as base class.\n",
    "- For Built-in exception system uses BaseException as base class."
   ]
  },
  {
   "cell_type": "markdown",
   "metadata": {},
   "source": [
    "## Some Code samples"
   ]
  },
  {
   "cell_type": "code",
   "execution_count": 16,
   "metadata": {
    "collapsed": false
   },
   "outputs": [
    {
     "name": "stdout",
     "output_type": "stream",
     "text": [
      "('this is ', 'sparta')\n",
      "['__cause__', '__class__', '__context__', '__delattr__', '__dict__', '__dir__', '__doc__', '__eq__', '__format__', '__ge__', '__getattribute__', '__gt__', '__hash__', '__init__', '__le__', '__lt__', '__ne__', '__new__', '__reduce__', '__reduce_ex__', '__repr__', '__setattr__', '__setstate__', '__sizeof__', '__str__', '__subclasshook__', '__suppress_context__', '__traceback__', 'args', 'with_traceback']\n"
     ]
    }
   ],
   "source": [
    "try:\n",
    "    raise Exception('this is ', 'sparta')\n",
    "except Exception as inst:\n",
    "    print(inst.args)\n",
    "    print(dir(inst))\n",
    "    "
   ]
  },
  {
   "cell_type": "code",
   "execution_count": 17,
   "metadata": {
    "collapsed": false
   },
   "outputs": [
    {
     "name": "stdout",
     "output_type": "stream",
     "text": [
      "12\n",
      "MyOwn Exception with 12 value\n"
     ]
    }
   ],
   "source": [
    "class MyException(Exception):\n",
    "    def __init__(self,val):\n",
    "        self.value = val\n",
    "    def __str__(self):\n",
    "        return 'MyOwn Exception with {0} value'.format(self.value)\n",
    "    \n",
    "try:\n",
    "    raise MyException('12')\n",
    "except MyException as e:\n",
    "    print(e.value)\n",
    "    print(e)"
   ]
  },
  {
   "cell_type": "markdown",
   "metadata": {},
   "source": [
    "### Some Misc about Exception\n",
    "The way to catch an exception and get a reference to the exception that works in all of them is this:\n",
    "\n",
    "<pre>\n",
    "except ValueError:\n",
    "    _, err, _ = sys.exc_info()\n",
    "    #.. use err...\n",
    " </pre>\n",
    "This is equivalent to:\n",
    "\n",
    "<pre>\n",
    "except ValueError as err:\n",
    "    #.. use err...\n",
    " </pre>"
   ]
  },
  {
   "cell_type": "markdown",
   "metadata": {
    "collapsed": true
   },
   "source": [
    "## Catching All Exceptions\n",
    "```python\n",
    " try:\n",
    "    #code\n",
    " except:\n",
    "     # get all except\n",
    " ```\n",
    "except:\n",
    "    - this class can get all exeptions including system exceptions such as \n",
    "    - KeyBoardError, OSError etc..\n",
    "    "
   ]
  },
  {
   "cell_type": "code",
   "execution_count": null,
   "metadata": {
    "collapsed": true
   },
   "outputs": [],
   "source": []
  }
 ],
 "metadata": {
  "kernelspec": {
   "display_name": "Python 3",
   "language": "python",
   "name": "python3"
  },
  "language_info": {
   "codemirror_mode": {
    "name": "ipython",
    "version": 3
   },
   "file_extension": ".py",
   "mimetype": "text/x-python",
   "name": "python",
   "nbconvert_exporter": "python",
   "pygments_lexer": "ipython3",
   "version": "3.5.1"
  }
 },
 "nbformat": 4,
 "nbformat_minor": 0
}
