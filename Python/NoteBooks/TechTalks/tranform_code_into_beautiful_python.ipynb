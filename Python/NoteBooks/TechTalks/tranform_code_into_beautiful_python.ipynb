{
 "cells": [
  {
   "cell_type": "code",
   "execution_count": 46,
   "metadata": {},
   "outputs": [],
   "source": [
    "import random\n",
    "from functools import partial\n",
    "from collections import defaultdict,ChainMap,deque"
   ]
  },
  {
   "cell_type": "markdown",
   "metadata": {},
   "source": [
    "# Transforming Code into Beautiful, Idiomatic Python"
   ]
  },
  {
   "cell_type": "markdown",
   "metadata": {},
   "source": [
    "## Tips 1\n",
    "- Never reverse using range(len(x),0,-1) like that\n",
    "- use Reversed"
   ]
  },
  {
   "cell_type": "code",
   "execution_count": 2,
   "metadata": {},
   "outputs": [
    {
     "name": "stdout",
     "output_type": "stream",
     "text": [
      "6\n",
      "5\n",
      "4\n",
      "3\n",
      "2\n",
      "1\n"
     ]
    }
   ],
   "source": [
    "x = [1,2,3,4,5,6]\n",
    "for i in reversed(x):\n",
    "    print(i)"
   ]
  },
  {
   "cell_type": "markdown",
   "metadata": {},
   "source": [
    "## Tips 2 looping multiple lists\n",
    "- use zip instead of finding min lst and get index and loop over it"
   ]
  },
  {
   "cell_type": "code",
   "execution_count": 5,
   "metadata": {},
   "outputs": [
    {
     "name": "stdout",
     "output_type": "stream",
     "text": [
      "1 a\n",
      "2 b\n",
      "3 c\n",
      "4 d\n"
     ]
    }
   ],
   "source": [
    "x = [1,2,3,4]\n",
    "y = ['a','b','c','d','e']\n",
    "\n",
    "for n,a in zip(x,y):\n",
    "    print(n,a)"
   ]
  },
  {
   "cell_type": "markdown",
   "metadata": {},
   "source": [
    "## Tip 3 use sorted(lst, key=len)\n",
    "- think key as SQL groupby "
   ]
  },
  {
   "cell_type": "markdown",
   "metadata": {},
   "source": [
    "## Tip 3 call function untill sentinal value\n",
    "- sential value check python iter(object[, sentinel])\n",
    "- traditionaly we write function like below like while True and check"
   ]
  },
  {
   "cell_type": "code",
   "execution_count": 23,
   "metadata": {},
   "outputs": [],
   "source": [
    "def getrandomchar():\n",
    "    return \"abcdefghijklmnopqrstuvwxyz\"[random.randint(0,25)]\n",
    "b = []\n",
    "while True:\n",
    "    c = getrandomchar()\n",
    "    if c == 'z':\n",
    "        break\n",
    "    else:\n",
    "        b.append(c)"
   ]
  },
  {
   "cell_type": "markdown",
   "metadata": {},
   "source": [
    "we can change to pythonic way instead which is awesome pythonic way"
   ]
  },
  {
   "cell_type": "code",
   "execution_count": 24,
   "metadata": {},
   "outputs": [],
   "source": [
    "b = []\n",
    "for c in iter(partial(getrandomchar),'z'):\n",
    "    b.append(c)"
   ]
  },
  {
   "cell_type": "code",
   "execution_count": 25,
   "metadata": {},
   "outputs": [
    {
     "data": {
      "text/plain": [
       "['s', 'o', 'g', 'i', 'r', 'w', 'p', 'n', 'n', 'j', 'e', 'a']"
      ]
     },
     "execution_count": 25,
     "metadata": {},
     "output_type": "execute_result"
    }
   ],
   "source": [
    "b"
   ]
  },
  {
   "cell_type": "markdown",
   "metadata": {},
   "source": [
    "## Tip 4 Consturct key values from 2 lists using zip"
   ]
  },
  {
   "cell_type": "code",
   "execution_count": 26,
   "metadata": {},
   "outputs": [],
   "source": [
    "l = [1,2,3,4,5]\n",
    "x = [6,7,8,9,10]\n",
    "d = dict(zip(l,x))"
   ]
  },
  {
   "cell_type": "code",
   "execution_count": 27,
   "metadata": {},
   "outputs": [
    {
     "data": {
      "text/plain": [
       "{1: 6, 2: 7, 3: 8, 4: 9, 5: 10}"
      ]
     },
     "execution_count": 27,
     "metadata": {},
     "output_type": "execute_result"
    }
   ],
   "source": [
    "d"
   ]
  },
  {
   "cell_type": "code",
   "execution_count": 28,
   "metadata": {},
   "outputs": [],
   "source": [
    "d = dict(enumerate(l))"
   ]
  },
  {
   "cell_type": "code",
   "execution_count": 29,
   "metadata": {},
   "outputs": [
    {
     "data": {
      "text/plain": [
       "{0: 1, 1: 2, 2: 3, 3: 4, 4: 5}"
      ]
     },
     "execution_count": 29,
     "metadata": {},
     "output_type": "execute_result"
    }
   ],
   "source": [
    "d"
   ]
  },
  {
   "cell_type": "markdown",
   "metadata": {},
   "source": [
    "## Tip 5 Counting use get instead of checking keys is there or not in list"
   ]
  },
  {
   "cell_type": "code",
   "execution_count": 30,
   "metadata": {},
   "outputs": [
    {
     "name": "stdout",
     "output_type": "stream",
     "text": [
      "{'T': 1, 'h': 3, 'i': 5, 's': 3, ' ': 8, 'p': 1, 'a': 3, 'r': 1, 't': 3, 'n': 4, 'd': 2, 'o': 1, 'g': 1, 'w': 1, 'e': 3, 'l': 2}\n"
     ]
    }
   ],
   "source": [
    "s = \"This is sparta and tonight we dine in hell\"\n",
    "d = {}\n",
    "for c in s:\n",
    "    d[c] = d.get(c,0)+1\n",
    "print(d)"
   ]
  },
  {
   "cell_type": "markdown",
   "metadata": {},
   "source": [
    "## Tip 6 Grouping with Dictornaries"
   ]
  },
  {
   "cell_type": "markdown",
   "metadata": {},
   "source": [
    "- Group by first letter\n",
    "- use dict.setdefault better way is defaultdict(list)"
   ]
  },
  {
   "cell_type": "code",
   "execution_count": 34,
   "metadata": {},
   "outputs": [
    {
     "name": "stdout",
     "output_type": "stream",
     "text": [
      "defaultdict(<class 'list'>, {'t': ['tamil', 'tharani'], 'y': ['yuva', 'yavana'], 'd': ['doom', 'doom3'], 'q': ['quake', 'quak']})\n"
     ]
    }
   ],
   "source": [
    "l = ['tamil','tharani','yuva','doom','quake','quak','doom3','yavana']\n",
    "d = defaultdict(list)\n",
    "for x in l:\n",
    "    key = x[0]\n",
    "    d[key].append(x)\n",
    "print(d)"
   ]
  },
  {
   "cell_type": "markdown",
   "metadata": {},
   "source": [
    "## Tip 7 Popitem in dict is atomic can use between threads"
   ]
  },
  {
   "cell_type": "code",
   "execution_count": 36,
   "metadata": {},
   "outputs": [
    {
     "name": "stdout",
     "output_type": "stream",
     "text": [
      "c 3\n",
      "b 2\n",
      "a 1\n"
     ]
    }
   ],
   "source": [
    "l = [\"a\",\"b\",\"c\"]\n",
    "l1 = [1,2,3]\n",
    "d = dict(zip(l,l1))\n",
    "\n",
    "while d:\n",
    "    k,v = d.popitem()\n",
    "    print(k,v)\n",
    "    "
   ]
  },
  {
   "cell_type": "markdown",
   "metadata": {},
   "source": [
    "## Tip 8 ChainMap (use it to link multiple dictonaries into single one updatable dict)"
   ]
  },
  {
   "cell_type": "code",
   "execution_count": 41,
   "metadata": {},
   "outputs": [
    {
     "name": "stdout",
     "output_type": "stream",
     "text": [
      "d 1\n",
      "h 1\n",
      "r 1\n",
      "a 2\n",
      "g 1\n",
      "l 2\n",
      "w 1\n",
      "e 3\n",
      "b 1\n",
      "n 3\n",
      "s 3\n",
      "i 2\n",
      "  2\n",
      "t 2\n",
      "o 1\n",
      "c 1\n",
      "p 1\n"
     ]
    }
   ],
   "source": [
    "s = \"this is sparta\"\n",
    "s1 = \"tonight we dine in hell\"\n",
    "s2 = \"abc\"\n",
    "\n",
    "d = {}\n",
    "d1 = {}\n",
    "d2 = {}\n",
    "\n",
    "for c in s:\n",
    "    d[c] = d.get(c,0)+1\n",
    "for c in s1:\n",
    "    d1[c] = d1.get(c,0)+1\n",
    "for c in s2:\n",
    "    d2[c] = d2.get(c,0)+1\n",
    "    \n",
    "fd = ChainMap(d,d1,d2)\n",
    "for k,v in fd.items():\n",
    "    print(k,v)"
   ]
  },
  {
   "cell_type": "markdown",
   "metadata": {},
   "source": [
    "## Tip 9 instead of concatenation of list of string use join"
   ]
  },
  {
   "cell_type": "raw",
   "metadata": {},
   "source": [
    "''.join(names)"
   ]
  },
  {
   "cell_type": "code",
   "execution_count": null,
   "metadata": {},
   "outputs": [],
   "source": [
    "## Tip 10 del,pop,insert slow in list but fast in deque use deque"
   ]
  },
  {
   "cell_type": "code",
   "execution_count": 43,
   "metadata": {},
   "outputs": [],
   "source": [
    "l = [1,2,3,4,5,6]\n",
    "del l[0]\n",
    "l.pop(0)\n",
    "l.insert(0,21)"
   ]
  },
  {
   "cell_type": "code",
   "execution_count": 48,
   "metadata": {},
   "outputs": [],
   "source": [
    "l = deque([1,2,3,4,5])\n",
    "del l[0]\n",
    "l.pop()\n",
    "l.insert(0,21)"
   ]
  },
  {
   "cell_type": "code",
   "execution_count": 49,
   "metadata": {},
   "outputs": [
    {
     "data": {
      "text/plain": [
       "deque([21, 2, 3, 4])"
      ]
     },
     "execution_count": 49,
     "metadata": {},
     "output_type": "execute_result"
    }
   ],
   "source": [
    "l"
   ]
  },
  {
   "cell_type": "code",
   "execution_count": 50,
   "metadata": {},
   "outputs": [],
   "source": [
    "s = f'{l} is list'"
   ]
  },
  {
   "cell_type": "code",
   "execution_count": 51,
   "metadata": {},
   "outputs": [
    {
     "data": {
      "text/plain": [
       "'deque([21, 2, 3, 4]) is list'"
      ]
     },
     "execution_count": 51,
     "metadata": {},
     "output_type": "execute_result"
    }
   ],
   "source": [
    "s"
   ]
  },
  {
   "cell_type": "code",
   "execution_count": null,
   "metadata": {},
   "outputs": [],
   "source": []
  }
 ],
 "metadata": {
  "kernelspec": {
   "display_name": "Python 3",
   "language": "python",
   "name": "python3"
  },
  "language_info": {
   "codemirror_mode": {
    "name": "ipython",
    "version": 3
   },
   "file_extension": ".py",
   "mimetype": "text/x-python",
   "name": "python",
   "nbconvert_exporter": "python",
   "pygments_lexer": "ipython3",
   "version": "3.6.6"
  }
 },
 "nbformat": 4,
 "nbformat_minor": 2
}
