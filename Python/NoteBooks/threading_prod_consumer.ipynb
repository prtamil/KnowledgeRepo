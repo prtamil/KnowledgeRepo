{
 "cells": [
  {
   "cell_type": "markdown",
   "metadata": {},
   "source": [
    "## Producer Consumer using Threads and Queue"
   ]
  },
  {
   "cell_type": "code",
   "execution_count": null,
   "metadata": {},
   "outputs": [
    {
     "name": "stdout",
     "output_type": "stream",
     "text": [
      "Doing workDoing work 2\n",
      " 1\n",
      "Doing workDoing work 4\n",
      " 3\n",
      "Doing workDoing work 5\n",
      " 6\n"
     ]
    }
   ],
   "source": [
    "import queue\n",
    "import threading\n",
    "import time\n",
    "\n",
    "def worker():\n",
    "    while True:\n",
    "        item = q.get()\n",
    "        time.sleep(10)\n",
    "        if item is None:\n",
    "            break\n",
    "        print('Doing work',item)\n",
    "        q.task_done()\n",
    "        \n",
    "q = queue.Queue()\n",
    "threads = []\n",
    "num_workers = 2\n",
    "for i in range(num_workers):\n",
    "    t = threading.Thread(target=worker)\n",
    "    t.start()\n",
    "    threads.append(t)\n",
    "    \n",
    "for x in [1,2,3,4,5,6]:\n",
    "    q.put(x)\n",
    "    \n",
    "#block waits\n",
    "q.join()\n",
    "\n",
    "#stop workers\n",
    "for t in threads:\n",
    "    t.join()\n",
    "    "
   ]
  },
  {
   "cell_type": "code",
   "execution_count": null,
   "metadata": {},
   "outputs": [],
   "source": [
    "def worker():\n",
    "    while True:\n",
    "        item = q.get()\n",
    "        if item is None:\n",
    "            break\n",
    "        do_work(item)\n",
    "        q.task_done()\n",
    "\n",
    "q = queue.Queue()\n",
    "threads = []\n",
    "for i in range(num_worker_threads):\n",
    "    t = threading.Thread(target=worker)\n",
    "    t.start()\n",
    "    threads.append(t)\n",
    "\n",
    "for item in source():\n",
    "    q.put(item)\n",
    "\n",
    "# block until all tasks are done\n",
    "q.join()\n",
    "\n",
    "# stop workers\n",
    "for i in range(num_worker_threads):\n",
    "    q.put(None)\n",
    "for t in threads:\n",
    "    t.join()"
   ]
  },
  {
   "cell_type": "code",
   "execution_count": 1,
   "metadata": {},
   "outputs": [],
   "source": [
    "import queue"
   ]
  },
  {
   "cell_type": "code",
   "execution_count": null,
   "metadata": {},
   "outputs": [],
   "source": []
  }
 ],
 "metadata": {
  "kernelspec": {
   "display_name": "Python 3",
   "language": "python",
   "name": "python3"
  },
  "language_info": {
   "codemirror_mode": {
    "name": "ipython",
    "version": 3
   },
   "file_extension": ".py",
   "mimetype": "text/x-python",
   "name": "python",
   "nbconvert_exporter": "python",
   "pygments_lexer": "ipython3",
   "version": "3.6.6"
  }
 },
 "nbformat": 4,
 "nbformat_minor": 2
}
