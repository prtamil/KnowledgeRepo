{
 "cells": [
  {
   "cell_type": "markdown",
   "metadata": {},
   "source": [
    "# Binary Tree \n",
    "Binary Tree's Some interesting things on Binary Trees"
   ]
  },
  {
   "cell_type": "code",
   "execution_count": 1,
   "metadata": {
    "collapsed": true
   },
   "outputs": [],
   "source": [
    "class Node:\n",
    "    def __init__(self,data):\n",
    "        self.data = data\n",
    "        self.left = None\n",
    "        self.right = None\n",
    "    def __str__(self,depth=0):\n",
    "        ret = \"\"\n",
    "        # Print right branch\n",
    "        if self.right != None:\n",
    "            ret += self.right.__str__(depth + 1)\n",
    "\n",
    "        # Print own value\n",
    "        ret += \"\\n\" + (\"    \"*depth) + str(self.data)\n",
    "\n",
    "        # Print left branch\n",
    "        if self.left != None:\n",
    "            ret += self.left.__str__(depth + 1)\n",
    "\n",
    "        return ret"
   ]
  },
  {
   "cell_type": "code",
   "execution_count": 2,
   "metadata": {
    "collapsed": false
   },
   "outputs": [
    {
     "name": "stdout",
     "output_type": "stream",
     "text": [
      "\n",
      "            7\n",
      "        6\n",
      "    5\n",
      "        4\n",
      "3\n",
      "        1.5\n",
      "    2\n",
      "        1\n"
     ]
    }
   ],
   "source": [
    "root = Node(3)\n",
    "root.left = Node(2)\n",
    "root.left.right = Node(1.5)\n",
    "root.left.left = Node(1)\n",
    "root.right = Node(5)\n",
    "root.right.left = Node(4)\n",
    "root.right.right = Node(6)\n",
    "root.right.right.right = Node(7)\n",
    "print(root)"
   ]
  },
  {
   "cell_type": "code",
   "execution_count": 3,
   "metadata": {
    "collapsed": true
   },
   "outputs": [],
   "source": [
    "def maxdepth(node):\n",
    "    if node is None:\n",
    "        return 0\n",
    "    else:\n",
    "        ldepth = maxdepth(node.left)\n",
    "        rdepth = maxdepth(node.right)\n",
    "    \n",
    "        if (ldepth > rdepth):\n",
    "            return ldepth+1\n",
    "        else:\n",
    "            return rdepth+1\n"
   ]
  },
  {
   "cell_type": "code",
   "execution_count": 4,
   "metadata": {
    "collapsed": false
   },
   "outputs": [
    {
     "data": {
      "text/plain": [
       "4"
      ]
     },
     "execution_count": 4,
     "metadata": {},
     "output_type": "execute_result"
    }
   ],
   "source": [
    "maxdepth(root)"
   ]
  },
  {
   "cell_type": "markdown",
   "metadata": {
    "collapsed": true
   },
   "source": [
    "## Level Order"
   ]
  },
  {
   "cell_type": "code",
   "execution_count": 5,
   "metadata": {
    "collapsed": true
   },
   "outputs": [],
   "source": [
    "from collections import deque\n",
    "q = deque()\n",
    "q.append(10)\n",
    "q.append(20)\n",
    "q.append(30)"
   ]
  },
  {
   "cell_type": "code",
   "execution_count": null,
   "metadata": {
    "collapsed": true
   },
   "outputs": [],
   "source": []
  },
  {
   "cell_type": "code",
   "execution_count": 6,
   "metadata": {
    "collapsed": true
   },
   "outputs": [],
   "source": [
    "def levelorder(root):\n",
    "    q = deque()\n",
    "    if root:\n",
    "        q.append(root)\n",
    "    while len(q) > 0:\n",
    "        x = q.popleft()\n",
    "        print(x.data)\n",
    "        if x.left:\n",
    "            q.append(x.left)\n",
    "        if x.right:\n",
    "            q.append(x.right)"
   ]
  },
  {
   "cell_type": "code",
   "execution_count": 7,
   "metadata": {
    "collapsed": false
   },
   "outputs": [
    {
     "name": "stdout",
     "output_type": "stream",
     "text": [
      "3\n",
      "2\n",
      "5\n",
      "1\n",
      "1.5\n",
      "4\n",
      "6\n",
      "7\n"
     ]
    }
   ],
   "source": [
    "levelorder(root)"
   ]
  },
  {
   "cell_type": "code",
   "execution_count": 8,
   "metadata": {
    "collapsed": false
   },
   "outputs": [
    {
     "name": "stdout",
     "output_type": "stream",
     "text": [
      "\n",
      "            7\n",
      "        6\n",
      "    5\n",
      "        4\n",
      "3\n",
      "        1.5\n",
      "    2\n",
      "        1\n"
     ]
    }
   ],
   "source": [
    "print(root)"
   ]
  },
  {
   "cell_type": "code",
   "execution_count": 9,
   "metadata": {
    "collapsed": false
   },
   "outputs": [],
   "source": [
    "def rotright(root):\n",
    "    pivot = root.left\n",
    "    root.left = pivot.right\n",
    "    pivot.right = root\n",
    "    \n",
    "    print(pivot)\n",
    "    "
   ]
  },
  {
   "cell_type": "code",
   "execution_count": 10,
   "metadata": {
    "collapsed": false
   },
   "outputs": [
    {
     "name": "stdout",
     "output_type": "stream",
     "text": [
      "\n",
      "    7\n",
      "5\n",
      "        4\n",
      "    3\n",
      "        2\n"
     ]
    }
   ],
   "source": [
    "test = Node(5)\n",
    "test.right = Node(7)\n",
    "test.left = Node(3)\n",
    "test.left.right = Node(4)\n",
    "test.left.left = Node(2)\n",
    "print(test)"
   ]
  },
  {
   "cell_type": "code",
   "execution_count": 11,
   "metadata": {
    "collapsed": false
   },
   "outputs": [
    {
     "name": "stdout",
     "output_type": "stream",
     "text": [
      "\n",
      "        7\n",
      "    5\n",
      "        4\n",
      "3\n",
      "    2\n"
     ]
    }
   ],
   "source": [
    "rotright(test)"
   ]
  },
  {
   "cell_type": "code",
   "execution_count": 12,
   "metadata": {
    "collapsed": false
   },
   "outputs": [
    {
     "name": "stdout",
     "output_type": "stream",
     "text": [
      "\n",
      "                7\n",
      "            6\n",
      "        5\n",
      "            4\n",
      "    3\n",
      "        1.5\n",
      "2\n",
      "    1\n"
     ]
    }
   ],
   "source": [
    "rotright(root)"
   ]
  },
  {
   "cell_type": "code",
   "execution_count": null,
   "metadata": {
    "collapsed": true
   },
   "outputs": [],
   "source": []
  }
 ],
 "metadata": {
  "kernelspec": {
   "display_name": "Python 3",
   "language": "python",
   "name": "python3"
  },
  "language_info": {
   "codemirror_mode": {
    "name": "ipython",
    "version": 3
   },
   "file_extension": ".py",
   "mimetype": "text/x-python",
   "name": "python",
   "nbconvert_exporter": "python",
   "pygments_lexer": "ipython3",
   "version": "3.6.0"
  }
 },
 "nbformat": 4,
 "nbformat_minor": 0
}
